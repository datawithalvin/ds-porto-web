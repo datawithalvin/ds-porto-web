{
 "cells": [
  {
   "cell_type": "code",
   "execution_count": 1,
   "metadata": {},
   "outputs": [
    {
     "name": "stderr",
     "output_type": "stream",
     "text": [
      "[nltk_data] Downloading package punkt to\n",
      "[nltk_data]     C:\\Users\\PF2L6BL6\\AppData\\Roaming\\nltk_data...\n",
      "[nltk_data]   Package punkt is already up-to-date!\n"
     ]
    }
   ],
   "source": [
    "import pandas as pd\n",
    "import numpy as np\n",
    "import time\n",
    "import datetime\n",
    "import re\n",
    "\n",
    "import nltk\n",
    "from nltk.tokenize import sent_tokenize\n",
    "nltk.download(\"punkt\")\n",
    "\n",
    "from newspaper import Article\n",
    "import requests\n",
    "from bs4 import BeautifulSoup\n"
   ]
  },
  {
   "cell_type": "code",
   "execution_count": 2,
   "metadata": {},
   "outputs": [
    {
     "data": {
      "text/plain": [
       "''"
      ]
     },
     "execution_count": 2,
     "metadata": {},
     "output_type": "execute_result"
    }
   ],
   "source": [
    "news_url = \"https://deduktif.id/eeeaaa-ada-artis-dan-influencer-di-iklan-judi-online\"\n",
    "\n",
    "get_article = Article(news_url)\n",
    "get_article.download()\n",
    "get_article.parse()\n",
    "full_text = get_article.text\n",
    "full_text"
   ]
  },
  {
   "cell_type": "code",
   "execution_count": 3,
   "metadata": {},
   "outputs": [
    {
     "name": "stdout",
     "output_type": "stream",
     "text": [
      "Arman terperanjat saat ditawari \\u0026lt;em\\u0026gt;endorsement \\u0026lt;/em\\u0026gt;yang nilainya delapan kali lipat dari yang biasa ia terima. Tawaran itu datang dari rumah judi online. Jika biasanya ia dibayar Rp1 juta untuk satu postingan, ia ditawari Rp8 juta. Tawaran itu jelas menggiurkan.\\u0026lt;/h3\\u0026gt;\\r\\n\\r\\n\\u0026lt;h3\\u0026gt;Arman bukan nama sebenarnya. Usia 24, domisili Semarang. Pengikutnya di Instagram 300 ribuan. Ia rutin mengunggah konten-konten seputar \\u0026lt;em\\u0026gt;esport\\u0026lt;/em\\u0026gt;: mulai dari panduan mekanik\\u0026amp;nbsp; untuk \\u0026lt;em\\u0026gt;hero \\u0026lt;/em\\u0026gt;dalam permainan MOBA (Multiplayer Online Battle Arena), tips dan trik, sampai trivia tim-tim \\u0026lt;em\\u0026gt;esport \\u0026lt;/em\\u0026gt;yang berkompetisi di liga lokal. Selain itu, Arman juga \\u0026lt;em\\u0026gt;streamer \\u0026lt;/em\\u0026gt;yang kontennya diunggah di YouTube.\\u0026lt;/h3\\u0026gt;\\r\\n\\r\\n\\u0026lt;p\\u0026gt;\\u0026lt;em\\u0026gt;Endorsement \\u0026lt;/em\\u0026gt;yang sebelumnya pernah ia ambil antara lain dari gerai \\u0026lt;em\\u0026gt;top-up \\u0026lt;/em\\u0026gt;gim daring dan produk digital, brand pakaian, minuman kemasan saset, dan dagangan temannya.\\u0026lt;/p\\u0026gt;\\r\\n\\r\\n\\u0026lt;p\\u0026gt;Rumah judi online itu meminta Arman mempromosikan permainan slot di situsweb mereka. Rinciannya, Rp8 juta untuk satu postingan di \\u0026lt;em\\u0026gt;feed \\u0026lt;/em\\u0026gt;dengan format bebas (foto atau video pendek), membubuhkan logo, plus \\u0026lt;em\\u0026gt;copy\\u0026lt;/em\\u0026gt; ringkas promo yang ditawarkan.\\u0026lt;/p\\u0026gt;\\r\\n\\r\\n\\u0026lt;p\\u0026gt;Arman meminta pendapat temannya sesama selebgram. Temannya menyarankan terima saja. \\u0026amp;ldquo;Akhirnya saya terima,\\u0026amp;rdquo; katanya.\\u0026lt;/p\\u0026gt;\\r\\n\\r\\n\\u0026lt;p\\u0026gt;Setelah konten \\u0026lt;em\\u0026gt;endorsement \\u0026lt;/em\\u0026gt;diunggah, beberapa temannya menghubungi. Ada yang berseloroh nilainya \\u0026lt;em\\u0026gt;pasti\\u0026lt;/em\\u0026gt; besar, ada yang bertanya kenapa mau, ada juga yang memujinya nyali besar.\\u0026lt;/p\\u0026gt;\\r\\n\\r\\n\\u0026lt;h3\\u0026gt;Menurut Naldo, \\u0026lt;a href=\\u0026quot;https://deduktif.id/menambang-cuan-dari-judi-online\\u0026quot;\\u0026gt;\\u0026lt;u\\u0026gt;tokoh kita di tulisan pertama\\u0026lt;/u\\u0026gt;\\u0026lt;/a\\u0026gt;, itu memang praktik umum di rumah-rumah judi online\\u0026amp;ndash;selain menggunakan \\u0026lt;em\\u0026gt;Google Ads\\u0026lt;/em\\u0026gt;.\\u0026amp;nbsp; \\u0026amp;ldquo;Orang marketing pernah saya \\u0026lt;em\\u0026gt;tugasin\\u0026lt;/em\\u0026gt; cari artis atau penyanyi dangdut,\\u0026amp;rdquo; katanya, \\u0026amp;ldquo;tapi hanya ada satu yang mau. Sisanya menolak karena takut diciduk.\\u0026amp;rdquo; Nilainya Rp15 juta per postingan.\\u0026amp;nbsp;\\u0026lt;/h3\\u0026gt;\\r\\n\\r\\n\\u0026lt;p\\u0026gt;Rumah judi Naldo sengaja menyasar pengikut penyanyi dangdut, kerena mereka adalah para pekerja atau kelompok sosial yang sehari-hari memang lekat dengan judi online yang sangat mudah diakses. Entah itu slot, tebak nomor, atau tebak skor. \\u0026amp;ldquo;Waktu itu saya siapkan \\u0026lt;em\\u0026gt;budget \\u0026lt;/em\\u0026gt;sekitar Rp200 juta.\\u0026amp;rdquo;\\u0026amp;nbsp;\\u0026lt;/p\\u0026gt;\\r\\n\\r\\n\\u0026lt;p\\u0026gt;Beberapa kenalan Naldo yang mengoperasikan rumah judi juga melakukan hal yang sama. Bedanya di tipe artis atau \\u0026lt;em\\u0026gt;influencer. \\u0026lt;/em\\u0026gt;Ada yang lebih suka aktor, atau komedian, atau musisi, atau model yang punya rekam jejak di majalah pria dewasa, atau selebgram dan \\u0026lt;em\\u0026gt;streamer \\u0026lt;/em\\u0026gt;seperti Arman.\\u0026lt;/p\\u0026gt;\\r\\n\\r\\n\\u0026lt;p\\u0026gt;***\\u0026lt;/p\\u0026gt;\\r\\n\\r\\n\\u0026lt;p\\u0026gt;Pada Mei 2017, Nikita Mirzani mempromosikan Jaya Bet lewat unggahan di akun Instagramnya. Di \\u0026lt;em\\u0026gt;caption\\u0026lt;/em\\u0026gt; unggahan Nikita, tertera pilihan permainan yang Jaya Bet sediakan.\\u0026lt;/p\\u0026gt;\\r\\n\\r\\n\\u0026lt;p\\u0026gt;Selain Nikita, masih ada artis lain yang kemudian menerima \\u0026lt;em\\u0026gt;endorsement \\u0026lt;/em\\u0026gt;dari rumah judi online yang sama. Antara lain Amanda Manopo, Chelsea Veronnia yang merupakan sepupu selebgram ternama Rachel Venya, dan terakhir ada Sheila Marcia. Ketiganya mempromosikan juga situs Jaya Bet lewat akun Instagram masing-masing, berselang sekitar satu bulan dari unggahan Nikita.\\u0026lt;/p\\u0026gt;\\r\\n\\r\\n\\u0026lt;p\\u0026gt;Karena unggahan itu, Nikita Mirzani dilaporkan ke kepolisian. Amanda, Chelsea, dan Sheila beruntung tidak sampai dilaporkan, tapi mereka kemudian menghapus unggahan.\\u0026lt;/p\\u0026gt;\\r\\n\\r\\n\\u0026lt;p\\u0026gt;Tidak hanya lewat Instagram, beberapa nama besar artis lain memanfaatkan YouTube. Salah satunya \\u0026lt;a href=\\u0026quot;https://www.youtube.com/watch?v=PdNor3GiEmM\\u0026quot;\\u0026gt;\\u0026lt;u\\u0026gt;Dewi Persik\\u0026lt;/u\\u0026gt;\\u0026lt;/a\\u0026gt;, yang mempromosikan situs M11 Slot. Komedian \\u0026lt;a href=\\u0026quot;https://www.youtube.com/shorts/e0sB9L_Tp4c\\u0026quot;\\u0026gt;\\u0026lt;u\\u0026gt;Denny Cagur\\u0026lt;/u\\u0026gt;\\u0026lt;/a\\u0026gt;, yang mempromosikan Agen 138 di unggahan YouTube Short Hoki Slot. Nama besar lain, penyanyi kondang \\u0026lt;a href=\\u0026quot;https://www.youtube.com/shorts/Gzi8wxtu-Mc\\u0026quot;\\u0026gt;\\u0026lt;u\\u0026gt;Ari Lasso\\u0026lt;/u\\u0026gt;\\u0026lt;/a\\u0026gt; dan artis multi talenta \\u0026lt;a href=\\u0026quot;https://www.youtube.com/shorts/Fyu7NoUSU30\\u0026quot;\\u0026gt;\\u0026lt;u\\u0026gt;Boy William\\u0026lt;/u\\u0026gt;\\u0026lt;/a\\u0026gt;, turut juga mempromosikan Agen 138.\\u0026lt;/p\\u0026gt;\\r\\n\\r\\n\\u0026lt;p\\u0026gt;Yang menarik, para artis itu mengganti frasa \\u0026amp;ldquo;judi online\\u0026amp;rdquo; dengan \\u0026amp;ldquo;game online\\u0026amp;rdquo;. Dan mereka mengulang-ulang kalimat \\u0026amp;ldquo;game online ini sudah mempunyai lisensi dan terakreditasi\\u0026amp;rdquo;.\\u0026amp;nbsp;\\u0026lt;/p\\u0026gt;\\r\\n\\r\\n\\u0026lt;p\\u0026gt;Lisensi dari siapa? Akreditasi macam apa? Tidak jelas. Tapi bayaran mereka pasti berpuluh kali lipat dari yang diterima Arman.\\u0026lt;/p\\u0026gt;\\r\\n\\r\\n\\u0026lt;p\\u0026gt;***\\u0026lt;/p\\u0026gt;\\r\\n\\r\\n\\u0026lt;p\\u0026gt;Setelah dua minggu, Arman kemudian menghapus unggahan \\u0026lt;em\\u0026gt;endorsement\\u0026lt;/em\\u0026gt; dari rumah judi. Kerja samanya memang hanya untuk jangka waktu dua minggu. Sejak saat itu, Arman mengaku kapok. \\u0026amp;ldquo;Resikonya enggak main-main. Bisa dipenjara saya. Yang aman-aman aja, deh\\u0026lt;em\\u0026gt;,\\u0026lt;/em\\u0026gt;\\u0026amp;rdquo; katanya.\\u0026lt;/p\\u0026gt;\\r\\n\\r\\n\\u0026lt;p\\u0026gt;Arman semakin takut ketika salah satu selebgram perempuan kenalannya ditangkap oleh kepolisian pada Agustus 2022. \\u0026amp;ldquo;Saya tidak kenal di \\u0026lt;em\\u0026gt;real life, \\u0026lt;/em\\u0026gt;tapi saling \\u0026lt;em\\u0026gt;follow \\u0026lt;/em\\u0026gt;di Instagram. Dia ditangkap di Pemalang,\\u0026amp;rdquo; terangnya. Sosok selebgram perempuan itu adalah Risa Musfita, yang mempromosikan Naga 303.\\u0026lt;/p\\u0026gt;\\r\\n\\r\\n\\u0026lt;p\\u0026gt;Untuk penangkapan Risa Musfita, aparat kepolisian memakai Pasal 45 Ayat (2) juncto Pasal 27 Ayat (2) Undang-undang Informasi dan Transaksi Elektronik (UU ITE) tentang penyebaran akses informasi perjudian di media elektronik. Risa juga dikenakan Pasal 303 Ayat (1) KUHP tentang kesengajaan memberikan kesempatan perjudian atau turut serta dalam perusahaan perjudian. Ancaman pidananya sendiri maksimal 10 tahun penjara atau denda maksimal Rp 1 miliar.\\u0026lt;/p\\u0026gt;\\r\\n\\r\\n\\u0026lt;p\\u0026gt;Dalam laporan investigasi \\u0026lt;a href=\\u0026quot;https://globalinitiative.net/wp-content/uploads/2022/08/GITOC-APA-Obs-Asian-roulette-Criminogenic-casinos-and-illicit-trade-in-environmental-commodities-in-South-East-Asia.pdf\\u0026quot;\\u0026gt;\\u0026lt;em\\u0026gt;\\u0026lt;u\\u0026gt;Asian Roulette\\u0026lt;/u\\u0026gt;\\u0026lt;/em\\u0026gt;\\u0026lt;/a\\u0026gt;\\u0026lt;em\\u0026gt;: Criminogenic casinos and illicit trade environmental commodities in South East Asia \\u0026lt;/em\\u0026gt;yang dirilis oleh The Global Initiative Against Transnational Organized Crime pada Juli 2022, wilayah Asia Pasifik merupakan pasar perjudian terbesar dengan tingkat pertumbuhan yang paling pesat di seluruh dunia.\\u0026lt;/p\\u0026gt;\\r\\n\\r\\n\\u0026lt;p\\u0026gt;Proliferasi kasino fisik dan online di Asia Tenggara berada dalam yurisdiksi yang lemah dan zona ekonomi khusus, sehingga pengaturannya sangat permisif. Organisasi kriminal cukup leluasa mengoperasikan kasino maupun rumah judi online. Berbagai kejahatan berat\\u0026amp;ndash;termasuk pencucian uang, perdagangan narkoba dan manusia, serta prostitusi\\u0026amp;ndash;berkembang pesat dari masifnya pertumbuhan kasino serta rumah judi online di Asia.\\u0026lt;/p\\u0026gt;\\r\\n\\r\\n\\u0026lt;p\\u0026gt;Menurut M. Natsir Kongah, Koordinator Kelompok Substansi Humas PPATK, artis atau \\u0026lt;em\\u0026gt;influencer \\u0026lt;/em\\u0026gt;yang ada di pusaran ini tidak hanya berada di hilir\\u0026amp;ndash;atau sebatas orang yang mempromosikan saja; bisa saja mereka juga ada di hulu operasi. Ini terjadi pada kasus Indra Kenz terkait penipuan Binomo, di mana PPATK mengendus adanya aliran dana ke pemilik rumah judi online Rusia.\\u0026lt;/p\\u0026gt;\\r\\n\\r\\n\\u0026lt;p\\u0026gt;\\u0026amp;ldquo;Ada senilai Rp155 triliun, yang merupakan akumulasi dari 121 transaksi yang ditemukan PPATK,\\u0026amp;rdquo; kata Natsir.\\u0026lt;/p\\u0026gt;\",\"thumbnail\":\"1677174771_Deduktif-Header-Rumah-Judi-Rangga.jpg\",\"thumbnail_social\":\"1677174771_Deduktif-Header-Rumah-Judi-Rangga.jpg\",\"post_date\":\"2023-02-24 16:00:00\",\"created_at\":\"2023-02-23 17:52:51\",\"id_topic_deduktif\":15,\"author_name\":\"Fajar Nugraha\",\"author_image\":\"1655669770_fajar-nugraha.png\",\"header_background_color\":null,\"article_background_color\":\"141414\",\"footer_background_color\":\"7ce2e7\",\"topic_parent\":\"Rumah Judi\",\"topic\":\"Rumah Judi\"},\"domainname\":\"deduktif\"},\"__N_SSP\":true},\"page\":\"/[...slug]\",\"query\":{\"slug\":[\"eeeaaa-ada-artis-dan-influencer-di-iklan-judi-online\"]},\"buildId\":\"WQ1HhhyHMZNbmvJTH3DnL\",\"isFallback\":false,\"gssp\":true,\"scriptLoader\":[]}\n"
     ]
    }
   ],
   "source": [
    "import requests\n",
    "from bs4 import BeautifulSoup\n",
    "\n",
    "url = \"https://deduktif.id/eeeaaa-ada-artis-dan-influencer-di-iklan-judi-online\"\n",
    "\n",
    "# Send a GET request to the URL\n",
    "response = requests.get(url)\n",
    "\n",
    "# Parse the HTML content using BeautifulSoup\n",
    "soup = BeautifulSoup(response.content, \"html.parser\")\n",
    "\n",
    "# Find the script tag containing the article text\n",
    "script = soup.find(\"script\", {\"id\": \"__NEXT_DATA__\"})\n",
    "\n",
    "# Extract the article text from the script tag\n",
    "article_text = script.contents[0].split('{\"id\":98,\"title\":\"Eeeaaa')[1].split(\"</script>\")[0]\n",
    "\n",
    "# Find the start of the article text and remove the preceding characters\n",
    "start_index = article_text.index(\"Arman terperanjat saat ditawari\")\n",
    "# end_index = article_text.index(\"\")\n",
    "article_text = article_text[start_index:]\n",
    "\n",
    "# Print the article text\n",
    "print(article_text)"
   ]
  },
  {
   "cell_type": "code",
   "execution_count": 4,
   "metadata": {},
   "outputs": [
    {
     "data": {
      "text/plain": [
       "'Arman terperanjat saat ditawari endorsement yang nilainya delapan kali lipat dari yang biasa ia terima. Tawaran itu datang dari rumah judi online. Jika biasanya ia dibayar Rp1 juta untuk satu postingan, ia ditawari Rp8 juta. Tawaran itu jelas menggiurkan. Arman bukan nama sebenarnya. Usia 24, domisili Semarang. Pengikutnya di Instagram 300 ribuan. Ia rutin mengunggah konten-konten seputar esport: mulai dari panduan mekanik untuk hero dalam permainan MOBA (Multiplayer Online Battle Arena), tips dan trik, sampai trivia tim-tim esport yang berkompetisi di liga lokal. Selain itu, Arman juga streamer yang kontennya diunggah di YouTube.\\n\\nEndorsement yang sebelumnya pernah ia ambil antara lain dari gerai top-up gim daring dan produk digital, brand pakaian, minuman kemasan saset, dan dagangan temannya. Rumah judi online itu meminta Arman mempromosikan permainan slot di situsweb mereka. Rinciannya, Rp8 juta untuk satu postingan di feed dengan format bebas (foto atau video pendek), membubuhkan logo, plus copy ringkas promo yang ditawarkan. Arman meminta pendapat temannya sesama selebgram. Temannya menyarankan terima saja. “Akhirnya saya terima,” katanya. Setelah konten endorsement diunggah, beberapa temannya menghubungi. Ada yang berseloroh nilainya pasti besar, ada yang bertanya kenapa mau, ada juga yang memujinya nyali besar.\\n\\nMenurut Naldo, tokoh kita di tulisan pertama, itu memang praktik umum di rumah-rumah judi online—selain menggunakan Google Ads. “Orang marketing pernah saya tugasin cari artis atau penyanyi dangdut,” katanya, “tapi hanya ada satu yang mau. Sisanya menolak karena takut diciduk.” Nilainya Rp15 juta per postingan.\\n\\nRumah judi Naldo sengaja menyasar pengikut penyanyi dangdut, karena mereka adalah para pekerja atau kelompok sosial yang sehari-hari memang lekat dengan judi online yang sangat mudah diakses. Entah itu slot, tebak nomor, atau tebak skor. “Waktu itu saya siapkan budget sekitar Rp200 juta.”\\n\\nBeberapa kenalan Naldo yang mengoperasikan rumah judi juga melakukan hal yang sama. Bedanya di tipe artis atau influencer. Ada yang lebih suka aktor, atau komedian, atau musisi, atau model yang punya rekam jejak di majalah pria dewasa, atau selebgram dan streamer seperti Arman.\\n\\nPada Mei 2017, Nikita Mirzani mempromosikan Jaya Bet lewat unggahan di akun Instagramnya. Di caption unggahan Nikita, tertera pilihan permainan yang Jaya Bet sediakan. Selain Nikita, masih ada artis lain yang kemudian menerima endorsement dari rumah judi online yang sama. Antara lain Amanda Manopo, Chelsea Veronnia yang merupakan sepupu selebgram ternama Rachel Venya, dan terakhir ada Sheila Marcia. Ketiganya mempromosikan juga situs Jaya Bet lewat akun Instagram masing-masing, berselang sekitar satu bulan dari unggahan Nikita.\\n\\nKarena unggahan itu, Nikita Mirzani dilaporkan ke kepolisian. Amanda, Chelsea, dan Sheila beruntung tidak sampai dilaporkan, tapi mereka kemudian menghapus unggahan. Tidak hanya lewat Instagram, beberapa nama besar artis lain memanfaatkan YouTube. Salah satunya Dewi Persik, yang mempromosikan situs M11 Slot. Komedian Denny Cagur, yang mempromosikan Agen 138 di unggahan YouTube Short Hoki Slot. Nama besar lain, penyanyi kondang Ari Lasso dan artis multi talenta Boy William, turut juga mempromosikan Agen 138.\\n\\nYang menarik, para artis itu mengganti frasa \"judi online\" dengan \"game online\". Dan mereka mengulang-ulang kalimat \"game online ini sudah mempunyai lisensi dan terakreditasi\". Lisensi dari siapa? Akreditasi macam apa? Tidak jelas. Tapi bayaran mereka pasti berpuluh kali lipat dari yang diterima Arman.\\n\\nSetelah dua minggu, Arman kemudian menghapus unggahan endorsement dari rumah judi. Kerja samanya memang hanya untuk jangka waktu dua minggu. Sejak saat itu, Arman mengaku kapok. \"Resikonya enggak main-main. Bisa dipenjara saya. Yang aman-aman aja, deh,\" katanya.\\n\\nArman semakin takut ketika salah satu selebgram perempuan kenalannya ditangkap oleh kepolisian pada Agustus 2022. \"Saya tidak kenal di real life, tapi saling follow di Instagram. Dia ditangkap di Pemalang,\" terangnya. Sosok selebgram perempuan itu adalah Risa Musfita, yang mempromosikan Naga 303.\\n\\nUntuk penangkapan Risa Musfita, aparat kepolisian memakai Pasal 45 Ayat (2) juncto Pasal 27 Ayat (2) Undang-undang Informasi dan Transaksi Elektronik (UU ITE) tentang penyebaran akses informasi perjudian di media elektronik. Risa juga dikenakan Pasal 303 Ayat (1) KUHP tentang kesengajaan memberikan kesempatan perjudian atau turut serta dalam perusahaan perjudian. Ancaman pidananya sendiri maksimal 10 tahun penjara atau denda maksimal Rp 1 miliar.\\n\\nDalam laporan investigasi Asian Roulette: Criminogenic casinos and illicit trade environmental commodities in South East Asia yang dirilis oleh The Global Initiative Against Transnational Organized Crime pada Juli 2022, wilayah Asia Pasifik merupakan pasar perjudian terbesar dengan tingkat pertumbuhan yang paling pesat di seluruh dunia.\\n\\nProliferasi kasino fisik dan online di Asia Tenggara berada dalam yurisdiksi yang lemah dan zona ekonomi khusus, sehingga pengaturannya sangat permisif. Organisasi kriminal cukup leluasa mengoperasikan kasino maupun rumah judi online. Berbagai kejahatan berat—termasuk pencucian uang, perdagangan narkoba dan manusia, serta prostitusi—berkembang pesat dari masifnya pertumbuhan kasino serta rumah judi online di Asia.\\n\\nMenurut M. Natsir Kongah, Koordinator Kelompok Substansi Humas PPATK, artis atau influencer yang ada di pusaran ini tidak hanya berada di hilir—atau sebatas orang yang mempromosikan saja; bisa saja mereka juga ada di hulu operasi. Ini terjadi pada kasus Indra Kenz terkait penipuan Binomo, di mana PPATK mengendus adanya aliran dana ke pemilik rumah judi online Rusia.\\n\\n“Ada senilai Rp155 triliun, yang merupakan akumulasi dari 121 transaksi yang ditemukan PPATK,” kata Natsir.'"
      ]
     },
     "execution_count": 4,
     "metadata": {},
     "output_type": "execute_result"
    }
   ],
   "source": [
    "with open('cleaned-article.txt', 'r') as f:\n",
    "    cleaned_artile = f.read()\n",
    "\n",
    "cleaned_artile"
   ]
  },
  {
   "cell_type": "code",
   "execution_count": 6,
   "metadata": {},
   "outputs": [
    {
     "data": {
      "application/vnd.jupyter.widget-view+json": {
       "model_id": "025e7bd2c23a41e29bc941e88a3447d7",
       "version_major": 2,
       "version_minor": 0
      },
      "text/plain": [
       "Downloading (…)lve/main/config.json:   0%|          | 0.00/2.05k [00:00<?, ?B/s]"
      ]
     },
     "metadata": {},
     "output_type": "display_data"
    },
    {
     "name": "stderr",
     "output_type": "stream",
     "text": [
      "c:\\Users\\PF2L6BL6\\anaconda3\\envs\\dataviz-env\\lib\\site-packages\\huggingface_hub\\file_download.py:133: UserWarning: `huggingface_hub` cache-system uses symlinks by default to efficiently store duplicated files but your machine does not support them in C:\\Users\\PF2L6BL6\\.cache\\huggingface\\hub. Caching files will still work but in a degraded version that might require more space on your disk. This warning can be disabled by setting the `HF_HUB_DISABLE_SYMLINKS_WARNING` environment variable. For more details, see https://huggingface.co/docs/huggingface_hub/how-to-cache#limitations.\n",
      "To support symlinks on Windows, you either need to activate Developer Mode or to run Python as an administrator. In order to see activate developer mode, see this article: https://docs.microsoft.com/en-us/windows/apps/get-started/enable-your-device-for-development\n",
      "  warnings.warn(message)\n"
     ]
    },
    {
     "data": {
      "application/vnd.jupyter.widget-view+json": {
       "model_id": "0bfbb1ff30684b6982f6ea3293440799",
       "version_major": 2,
       "version_minor": 0
      },
      "text/plain": [
       "Downloading pytorch_model.bin:   0%|          | 0.00/1.11G [00:00<?, ?B/s]"
      ]
     },
     "metadata": {},
     "output_type": "display_data"
    },
    {
     "data": {
      "application/vnd.jupyter.widget-view+json": {
       "model_id": "bf30b5e4e3674f78a168ac04d62bd081",
       "version_major": 2,
       "version_minor": 0
      },
      "text/plain": [
       "Downloading pytorch_model.bin:   0%|          | 0.00/1.11G [00:00<?, ?B/s]"
      ]
     },
     "metadata": {},
     "output_type": "display_data"
    },
    {
     "ename": "KeyboardInterrupt",
     "evalue": "",
     "output_type": "error",
     "traceback": [
      "\u001b[1;31m---------------------------------------------------------------------------\u001b[0m",
      "\u001b[1;31mKeyboardInterrupt\u001b[0m                         Traceback (most recent call last)",
      "Cell \u001b[1;32mIn[6], line 3\u001b[0m\n\u001b[0;32m      1\u001b[0m \u001b[39mimport\u001b[39;00m \u001b[39mtransformers\u001b[39;00m\n\u001b[0;32m      2\u001b[0m \u001b[39mfrom\u001b[39;00m \u001b[39mtransformers\u001b[39;00m \u001b[39mimport\u001b[39;00m pipeline\n\u001b[1;32m----> 3\u001b[0m ner \u001b[39m=\u001b[39m pipeline(\u001b[39m\"\u001b[39;49m\u001b[39mner\u001b[39;49m\u001b[39m\"\u001b[39;49m, model\u001b[39m=\u001b[39;49m\u001b[39m\"\u001b[39;49m\u001b[39mcahya/xlm-roberta-base-indonesian-NER\u001b[39;49m\u001b[39m\"\u001b[39;49m, tokenizer\u001b[39m=\u001b[39;49m\u001b[39m\"\u001b[39;49m\u001b[39mcahya/xlm-roberta-base-indonesian-NER\u001b[39;49m\u001b[39m\"\u001b[39;49m)\n",
      "File \u001b[1;32mc:\\Users\\PF2L6BL6\\anaconda3\\envs\\dataviz-env\\lib\\site-packages\\transformers\\pipelines\\__init__.py:776\u001b[0m, in \u001b[0;36mpipeline\u001b[1;34m(task, model, config, tokenizer, feature_extractor, image_processor, framework, revision, use_fast, use_auth_token, device, device_map, torch_dtype, trust_remote_code, model_kwargs, pipeline_class, **kwargs)\u001b[0m\n\u001b[0;32m    772\u001b[0m \u001b[39m# Infer the framework from the model\u001b[39;00m\n\u001b[0;32m    773\u001b[0m \u001b[39m# Forced if framework already defined, inferred if it's None\u001b[39;00m\n\u001b[0;32m    774\u001b[0m \u001b[39m# Will load the correct model if possible\u001b[39;00m\n\u001b[0;32m    775\u001b[0m model_classes \u001b[39m=\u001b[39m {\u001b[39m\"\u001b[39m\u001b[39mtf\u001b[39m\u001b[39m\"\u001b[39m: targeted_task[\u001b[39m\"\u001b[39m\u001b[39mtf\u001b[39m\u001b[39m\"\u001b[39m], \u001b[39m\"\u001b[39m\u001b[39mpt\u001b[39m\u001b[39m\"\u001b[39m: targeted_task[\u001b[39m\"\u001b[39m\u001b[39mpt\u001b[39m\u001b[39m\"\u001b[39m]}\n\u001b[1;32m--> 776\u001b[0m framework, model \u001b[39m=\u001b[39m infer_framework_load_model(\n\u001b[0;32m    777\u001b[0m     model,\n\u001b[0;32m    778\u001b[0m     model_classes\u001b[39m=\u001b[39mmodel_classes,\n\u001b[0;32m    779\u001b[0m     config\u001b[39m=\u001b[39mconfig,\n\u001b[0;32m    780\u001b[0m     framework\u001b[39m=\u001b[39mframework,\n\u001b[0;32m    781\u001b[0m     task\u001b[39m=\u001b[39mtask,\n\u001b[0;32m    782\u001b[0m     \u001b[39m*\u001b[39m\u001b[39m*\u001b[39mhub_kwargs,\n\u001b[0;32m    783\u001b[0m     \u001b[39m*\u001b[39m\u001b[39m*\u001b[39mmodel_kwargs,\n\u001b[0;32m    784\u001b[0m )\n\u001b[0;32m    786\u001b[0m model_config \u001b[39m=\u001b[39m model\u001b[39m.\u001b[39mconfig\n\u001b[0;32m    787\u001b[0m hub_kwargs[\u001b[39m\"\u001b[39m\u001b[39m_commit_hash\u001b[39m\u001b[39m\"\u001b[39m] \u001b[39m=\u001b[39m model\u001b[39m.\u001b[39mconfig\u001b[39m.\u001b[39m_commit_hash\n",
      "File \u001b[1;32mc:\\Users\\PF2L6BL6\\anaconda3\\envs\\dataviz-env\\lib\\site-packages\\transformers\\pipelines\\base.py:262\u001b[0m, in \u001b[0;36minfer_framework_load_model\u001b[1;34m(model, config, model_classes, task, framework, **model_kwargs)\u001b[0m\n\u001b[0;32m    256\u001b[0m     logger\u001b[39m.\u001b[39mwarning(\n\u001b[0;32m    257\u001b[0m         \u001b[39m\"\u001b[39m\u001b[39mModel might be a PyTorch model (ending with `.bin`) but PyTorch is not available. \u001b[39m\u001b[39m\"\u001b[39m\n\u001b[0;32m    258\u001b[0m         \u001b[39m\"\u001b[39m\u001b[39mTrying to load the model with Tensorflow.\u001b[39m\u001b[39m\"\u001b[39m\n\u001b[0;32m    259\u001b[0m     )\n\u001b[0;32m    261\u001b[0m \u001b[39mtry\u001b[39;00m:\n\u001b[1;32m--> 262\u001b[0m     model \u001b[39m=\u001b[39m model_class\u001b[39m.\u001b[39mfrom_pretrained(model, \u001b[39m*\u001b[39m\u001b[39m*\u001b[39mkwargs)\n\u001b[0;32m    263\u001b[0m     \u001b[39mif\u001b[39;00m \u001b[39mhasattr\u001b[39m(model, \u001b[39m\"\u001b[39m\u001b[39meval\u001b[39m\u001b[39m\"\u001b[39m):\n\u001b[0;32m    264\u001b[0m         model \u001b[39m=\u001b[39m model\u001b[39m.\u001b[39meval()\n",
      "File \u001b[1;32mc:\\Users\\PF2L6BL6\\anaconda3\\envs\\dataviz-env\\lib\\site-packages\\transformers\\modeling_utils.py:2319\u001b[0m, in \u001b[0;36mPreTrainedModel.from_pretrained\u001b[1;34m(cls, pretrained_model_name_or_path, *model_args, **kwargs)\u001b[0m\n\u001b[0;32m   2304\u001b[0m \u001b[39mtry\u001b[39;00m:\n\u001b[0;32m   2305\u001b[0m     \u001b[39m# Load from URL or cache if already cached\u001b[39;00m\n\u001b[0;32m   2306\u001b[0m     cached_file_kwargs \u001b[39m=\u001b[39m {\n\u001b[0;32m   2307\u001b[0m         \u001b[39m\"\u001b[39m\u001b[39mcache_dir\u001b[39m\u001b[39m\"\u001b[39m: cache_dir,\n\u001b[0;32m   2308\u001b[0m         \u001b[39m\"\u001b[39m\u001b[39mforce_download\u001b[39m\u001b[39m\"\u001b[39m: force_download,\n\u001b[1;32m   (...)\u001b[0m\n\u001b[0;32m   2317\u001b[0m         \u001b[39m\"\u001b[39m\u001b[39m_commit_hash\u001b[39m\u001b[39m\"\u001b[39m: commit_hash,\n\u001b[0;32m   2318\u001b[0m     }\n\u001b[1;32m-> 2319\u001b[0m     resolved_archive_file \u001b[39m=\u001b[39m cached_file(pretrained_model_name_or_path, filename, \u001b[39m*\u001b[39m\u001b[39m*\u001b[39mcached_file_kwargs)\n\u001b[0;32m   2321\u001b[0m     \u001b[39m# Since we set _raise_exceptions_for_missing_entries=False, we don't get an exception but a None\u001b[39;00m\n\u001b[0;32m   2322\u001b[0m     \u001b[39m# result when internet is up, the repo and revision exist, but the file does not.\u001b[39;00m\n\u001b[0;32m   2323\u001b[0m     \u001b[39mif\u001b[39;00m resolved_archive_file \u001b[39mis\u001b[39;00m \u001b[39mNone\u001b[39;00m \u001b[39mand\u001b[39;00m filename \u001b[39m==\u001b[39m _add_variant(SAFE_WEIGHTS_NAME, variant):\n\u001b[0;32m   2324\u001b[0m         \u001b[39m# Maybe the checkpoint is sharded, we try to grab the index name in this case.\u001b[39;00m\n",
      "File \u001b[1;32mc:\\Users\\PF2L6BL6\\anaconda3\\envs\\dataviz-env\\lib\\site-packages\\transformers\\utils\\hub.py:409\u001b[0m, in \u001b[0;36mcached_file\u001b[1;34m(path_or_repo_id, filename, cache_dir, force_download, resume_download, proxies, use_auth_token, revision, local_files_only, subfolder, user_agent, _raise_exceptions_for_missing_entries, _raise_exceptions_for_connection_errors, _commit_hash)\u001b[0m\n\u001b[0;32m    406\u001b[0m user_agent \u001b[39m=\u001b[39m http_user_agent(user_agent)\n\u001b[0;32m    407\u001b[0m \u001b[39mtry\u001b[39;00m:\n\u001b[0;32m    408\u001b[0m     \u001b[39m# Load from URL or cache if already cached\u001b[39;00m\n\u001b[1;32m--> 409\u001b[0m     resolved_file \u001b[39m=\u001b[39m hf_hub_download(\n\u001b[0;32m    410\u001b[0m         path_or_repo_id,\n\u001b[0;32m    411\u001b[0m         filename,\n\u001b[0;32m    412\u001b[0m         subfolder\u001b[39m=\u001b[39;49m\u001b[39mNone\u001b[39;49;00m \u001b[39mif\u001b[39;49;00m \u001b[39mlen\u001b[39;49m(subfolder) \u001b[39m==\u001b[39;49m \u001b[39m0\u001b[39;49m \u001b[39melse\u001b[39;49;00m subfolder,\n\u001b[0;32m    413\u001b[0m         revision\u001b[39m=\u001b[39;49mrevision,\n\u001b[0;32m    414\u001b[0m         cache_dir\u001b[39m=\u001b[39;49mcache_dir,\n\u001b[0;32m    415\u001b[0m         user_agent\u001b[39m=\u001b[39;49muser_agent,\n\u001b[0;32m    416\u001b[0m         force_download\u001b[39m=\u001b[39;49mforce_download,\n\u001b[0;32m    417\u001b[0m         proxies\u001b[39m=\u001b[39;49mproxies,\n\u001b[0;32m    418\u001b[0m         resume_download\u001b[39m=\u001b[39;49mresume_download,\n\u001b[0;32m    419\u001b[0m         use_auth_token\u001b[39m=\u001b[39;49muse_auth_token,\n\u001b[0;32m    420\u001b[0m         local_files_only\u001b[39m=\u001b[39;49mlocal_files_only,\n\u001b[0;32m    421\u001b[0m     )\n\u001b[0;32m    423\u001b[0m \u001b[39mexcept\u001b[39;00m RepositoryNotFoundError:\n\u001b[0;32m    424\u001b[0m     \u001b[39mraise\u001b[39;00m \u001b[39mEnvironmentError\u001b[39;00m(\n\u001b[0;32m    425\u001b[0m         \u001b[39mf\u001b[39m\u001b[39m\"\u001b[39m\u001b[39m{\u001b[39;00mpath_or_repo_id\u001b[39m}\u001b[39;00m\u001b[39m is not a local folder and is not a valid model identifier \u001b[39m\u001b[39m\"\u001b[39m\n\u001b[0;32m    426\u001b[0m         \u001b[39m\"\u001b[39m\u001b[39mlisted on \u001b[39m\u001b[39m'\u001b[39m\u001b[39mhttps://huggingface.co/models\u001b[39m\u001b[39m'\u001b[39m\u001b[39m\\n\u001b[39;00m\u001b[39mIf this is a private repository, make sure to \u001b[39m\u001b[39m\"\u001b[39m\n\u001b[0;32m    427\u001b[0m         \u001b[39m\"\u001b[39m\u001b[39mpass a token having permission to this repo with `use_auth_token` or log in with \u001b[39m\u001b[39m\"\u001b[39m\n\u001b[0;32m    428\u001b[0m         \u001b[39m\"\u001b[39m\u001b[39m`huggingface-cli login` and pass `use_auth_token=True`.\u001b[39m\u001b[39m\"\u001b[39m\n\u001b[0;32m    429\u001b[0m     )\n",
      "File \u001b[1;32mc:\\Users\\PF2L6BL6\\anaconda3\\envs\\dataviz-env\\lib\\site-packages\\huggingface_hub\\utils\\_validators.py:120\u001b[0m, in \u001b[0;36mvalidate_hf_hub_args.<locals>._inner_fn\u001b[1;34m(*args, **kwargs)\u001b[0m\n\u001b[0;32m    117\u001b[0m \u001b[39mif\u001b[39;00m check_use_auth_token:\n\u001b[0;32m    118\u001b[0m     kwargs \u001b[39m=\u001b[39m smoothly_deprecate_use_auth_token(fn_name\u001b[39m=\u001b[39mfn\u001b[39m.\u001b[39m\u001b[39m__name__\u001b[39m, has_token\u001b[39m=\u001b[39mhas_token, kwargs\u001b[39m=\u001b[39mkwargs)\n\u001b[1;32m--> 120\u001b[0m \u001b[39mreturn\u001b[39;00m fn(\u001b[39m*\u001b[39margs, \u001b[39m*\u001b[39m\u001b[39m*\u001b[39mkwargs)\n",
      "File \u001b[1;32mc:\\Users\\PF2L6BL6\\anaconda3\\envs\\dataviz-env\\lib\\site-packages\\huggingface_hub\\file_download.py:1326\u001b[0m, in \u001b[0;36mhf_hub_download\u001b[1;34m(repo_id, filename, subfolder, repo_type, revision, library_name, library_version, cache_dir, local_dir, local_dir_use_symlinks, user_agent, force_download, force_filename, proxies, etag_timeout, resume_download, token, local_files_only, legacy_cache_layout)\u001b[0m\n\u001b[0;32m   1323\u001b[0m \u001b[39mwith\u001b[39;00m temp_file_manager() \u001b[39mas\u001b[39;00m temp_file:\n\u001b[0;32m   1324\u001b[0m     logger\u001b[39m.\u001b[39minfo(\u001b[39m\"\u001b[39m\u001b[39mdownloading \u001b[39m\u001b[39m%s\u001b[39;00m\u001b[39m to \u001b[39m\u001b[39m%s\u001b[39;00m\u001b[39m\"\u001b[39m, url, temp_file\u001b[39m.\u001b[39mname)\n\u001b[1;32m-> 1326\u001b[0m     http_get(\n\u001b[0;32m   1327\u001b[0m         url_to_download,\n\u001b[0;32m   1328\u001b[0m         temp_file,\n\u001b[0;32m   1329\u001b[0m         proxies\u001b[39m=\u001b[39;49mproxies,\n\u001b[0;32m   1330\u001b[0m         resume_size\u001b[39m=\u001b[39;49mresume_size,\n\u001b[0;32m   1331\u001b[0m         headers\u001b[39m=\u001b[39;49mheaders,\n\u001b[0;32m   1332\u001b[0m     )\n\u001b[0;32m   1334\u001b[0m \u001b[39mif\u001b[39;00m local_dir \u001b[39mis\u001b[39;00m \u001b[39mNone\u001b[39;00m:\n\u001b[0;32m   1335\u001b[0m     logger\u001b[39m.\u001b[39minfo(\u001b[39mf\u001b[39m\u001b[39m\"\u001b[39m\u001b[39mStoring \u001b[39m\u001b[39m{\u001b[39;00murl\u001b[39m}\u001b[39;00m\u001b[39m in cache at \u001b[39m\u001b[39m{\u001b[39;00mblob_path\u001b[39m}\u001b[39;00m\u001b[39m\"\u001b[39m)\n",
      "File \u001b[1;32mc:\\Users\\PF2L6BL6\\anaconda3\\envs\\dataviz-env\\lib\\site-packages\\huggingface_hub\\file_download.py:538\u001b[0m, in \u001b[0;36mhttp_get\u001b[1;34m(url, temp_file, proxies, resume_size, headers, timeout, max_retries)\u001b[0m\n\u001b[0;32m    528\u001b[0m     displayed_name \u001b[39m=\u001b[39m \u001b[39mf\u001b[39m\u001b[39m\"\u001b[39m\u001b[39m(…)\u001b[39m\u001b[39m{\u001b[39;00mdisplayed_name[\u001b[39m-\u001b[39m\u001b[39m20\u001b[39m:]\u001b[39m}\u001b[39;00m\u001b[39m\"\u001b[39m\n\u001b[0;32m    530\u001b[0m progress \u001b[39m=\u001b[39m tqdm(\n\u001b[0;32m    531\u001b[0m     unit\u001b[39m=\u001b[39m\u001b[39m\"\u001b[39m\u001b[39mB\u001b[39m\u001b[39m\"\u001b[39m,\n\u001b[0;32m    532\u001b[0m     unit_scale\u001b[39m=\u001b[39m\u001b[39mTrue\u001b[39;00m,\n\u001b[1;32m   (...)\u001b[0m\n\u001b[0;32m    536\u001b[0m     disable\u001b[39m=\u001b[39m\u001b[39mbool\u001b[39m(logger\u001b[39m.\u001b[39mgetEffectiveLevel() \u001b[39m==\u001b[39m logging\u001b[39m.\u001b[39mNOTSET),\n\u001b[0;32m    537\u001b[0m )\n\u001b[1;32m--> 538\u001b[0m \u001b[39mfor\u001b[39;00m chunk \u001b[39min\u001b[39;00m r\u001b[39m.\u001b[39miter_content(chunk_size\u001b[39m=\u001b[39m\u001b[39m10\u001b[39m \u001b[39m*\u001b[39m \u001b[39m1024\u001b[39m \u001b[39m*\u001b[39m \u001b[39m1024\u001b[39m):\n\u001b[0;32m    539\u001b[0m     \u001b[39mif\u001b[39;00m chunk:  \u001b[39m# filter out keep-alive new chunks\u001b[39;00m\n\u001b[0;32m    540\u001b[0m         progress\u001b[39m.\u001b[39mupdate(\u001b[39mlen\u001b[39m(chunk))\n",
      "File \u001b[1;32mc:\\Users\\PF2L6BL6\\anaconda3\\envs\\dataviz-env\\lib\\site-packages\\requests\\models.py:816\u001b[0m, in \u001b[0;36mResponse.iter_content.<locals>.generate\u001b[1;34m()\u001b[0m\n\u001b[0;32m    814\u001b[0m \u001b[39mif\u001b[39;00m \u001b[39mhasattr\u001b[39m(\u001b[39mself\u001b[39m\u001b[39m.\u001b[39mraw, \u001b[39m\"\u001b[39m\u001b[39mstream\u001b[39m\u001b[39m\"\u001b[39m):\n\u001b[0;32m    815\u001b[0m     \u001b[39mtry\u001b[39;00m:\n\u001b[1;32m--> 816\u001b[0m         \u001b[39myield from\u001b[39;00m \u001b[39mself\u001b[39m\u001b[39m.\u001b[39mraw\u001b[39m.\u001b[39mstream(chunk_size, decode_content\u001b[39m=\u001b[39m\u001b[39mTrue\u001b[39;00m)\n\u001b[0;32m    817\u001b[0m     \u001b[39mexcept\u001b[39;00m ProtocolError \u001b[39mas\u001b[39;00m e:\n\u001b[0;32m    818\u001b[0m         \u001b[39mraise\u001b[39;00m ChunkedEncodingError(e)\n",
      "File \u001b[1;32mc:\\Users\\PF2L6BL6\\anaconda3\\envs\\dataviz-env\\lib\\site-packages\\urllib3\\response.py:628\u001b[0m, in \u001b[0;36mHTTPResponse.stream\u001b[1;34m(self, amt, decode_content)\u001b[0m\n\u001b[0;32m    626\u001b[0m \u001b[39melse\u001b[39;00m:\n\u001b[0;32m    627\u001b[0m     \u001b[39mwhile\u001b[39;00m \u001b[39mnot\u001b[39;00m is_fp_closed(\u001b[39mself\u001b[39m\u001b[39m.\u001b[39m_fp):\n\u001b[1;32m--> 628\u001b[0m         data \u001b[39m=\u001b[39m \u001b[39mself\u001b[39;49m\u001b[39m.\u001b[39;49mread(amt\u001b[39m=\u001b[39;49mamt, decode_content\u001b[39m=\u001b[39;49mdecode_content)\n\u001b[0;32m    630\u001b[0m         \u001b[39mif\u001b[39;00m data:\n\u001b[0;32m    631\u001b[0m             \u001b[39myield\u001b[39;00m data\n",
      "File \u001b[1;32mc:\\Users\\PF2L6BL6\\anaconda3\\envs\\dataviz-env\\lib\\site-packages\\urllib3\\response.py:567\u001b[0m, in \u001b[0;36mHTTPResponse.read\u001b[1;34m(self, amt, decode_content, cache_content)\u001b[0m\n\u001b[0;32m    564\u001b[0m fp_closed \u001b[39m=\u001b[39m \u001b[39mgetattr\u001b[39m(\u001b[39mself\u001b[39m\u001b[39m.\u001b[39m_fp, \u001b[39m\"\u001b[39m\u001b[39mclosed\u001b[39m\u001b[39m\"\u001b[39m, \u001b[39mFalse\u001b[39;00m)\n\u001b[0;32m    566\u001b[0m \u001b[39mwith\u001b[39;00m \u001b[39mself\u001b[39m\u001b[39m.\u001b[39m_error_catcher():\n\u001b[1;32m--> 567\u001b[0m     data \u001b[39m=\u001b[39m \u001b[39mself\u001b[39;49m\u001b[39m.\u001b[39;49m_fp_read(amt) \u001b[39mif\u001b[39;00m \u001b[39mnot\u001b[39;00m fp_closed \u001b[39melse\u001b[39;00m \u001b[39mb\u001b[39m\u001b[39m\"\u001b[39m\u001b[39m\"\u001b[39m\n\u001b[0;32m    568\u001b[0m     \u001b[39mif\u001b[39;00m amt \u001b[39mis\u001b[39;00m \u001b[39mNone\u001b[39;00m:\n\u001b[0;32m    569\u001b[0m         flush_decoder \u001b[39m=\u001b[39m \u001b[39mTrue\u001b[39;00m\n",
      "File \u001b[1;32mc:\\Users\\PF2L6BL6\\anaconda3\\envs\\dataviz-env\\lib\\site-packages\\urllib3\\response.py:533\u001b[0m, in \u001b[0;36mHTTPResponse._fp_read\u001b[1;34m(self, amt)\u001b[0m\n\u001b[0;32m    530\u001b[0m     \u001b[39mreturn\u001b[39;00m buffer\u001b[39m.\u001b[39mgetvalue()\n\u001b[0;32m    531\u001b[0m \u001b[39melse\u001b[39;00m:\n\u001b[0;32m    532\u001b[0m     \u001b[39m# StringIO doesn't like amt=None\u001b[39;00m\n\u001b[1;32m--> 533\u001b[0m     \u001b[39mreturn\u001b[39;00m \u001b[39mself\u001b[39;49m\u001b[39m.\u001b[39;49m_fp\u001b[39m.\u001b[39;49mread(amt) \u001b[39mif\u001b[39;00m amt \u001b[39mis\u001b[39;00m \u001b[39mnot\u001b[39;00m \u001b[39mNone\u001b[39;00m \u001b[39melse\u001b[39;00m \u001b[39mself\u001b[39m\u001b[39m.\u001b[39m_fp\u001b[39m.\u001b[39mread()\n",
      "File \u001b[1;32mc:\\Users\\PF2L6BL6\\anaconda3\\envs\\dataviz-env\\lib\\http\\client.py:463\u001b[0m, in \u001b[0;36mHTTPResponse.read\u001b[1;34m(self, amt)\u001b[0m\n\u001b[0;32m    460\u001b[0m \u001b[39mif\u001b[39;00m amt \u001b[39mis\u001b[39;00m \u001b[39mnot\u001b[39;00m \u001b[39mNone\u001b[39;00m:\n\u001b[0;32m    461\u001b[0m     \u001b[39m# Amount is given, implement using readinto\u001b[39;00m\n\u001b[0;32m    462\u001b[0m     b \u001b[39m=\u001b[39m \u001b[39mbytearray\u001b[39m(amt)\n\u001b[1;32m--> 463\u001b[0m     n \u001b[39m=\u001b[39m \u001b[39mself\u001b[39;49m\u001b[39m.\u001b[39;49mreadinto(b)\n\u001b[0;32m    464\u001b[0m     \u001b[39mreturn\u001b[39;00m \u001b[39mmemoryview\u001b[39m(b)[:n]\u001b[39m.\u001b[39mtobytes()\n\u001b[0;32m    465\u001b[0m \u001b[39melse\u001b[39;00m:\n\u001b[0;32m    466\u001b[0m     \u001b[39m# Amount is not given (unbounded read) so we must check self.length\u001b[39;00m\n\u001b[0;32m    467\u001b[0m     \u001b[39m# and self.chunked\u001b[39;00m\n",
      "File \u001b[1;32mc:\\Users\\PF2L6BL6\\anaconda3\\envs\\dataviz-env\\lib\\http\\client.py:507\u001b[0m, in \u001b[0;36mHTTPResponse.readinto\u001b[1;34m(self, b)\u001b[0m\n\u001b[0;32m    502\u001b[0m         b \u001b[39m=\u001b[39m \u001b[39mmemoryview\u001b[39m(b)[\u001b[39m0\u001b[39m:\u001b[39mself\u001b[39m\u001b[39m.\u001b[39mlength]\n\u001b[0;32m    504\u001b[0m \u001b[39m# we do not use _safe_read() here because this may be a .will_close\u001b[39;00m\n\u001b[0;32m    505\u001b[0m \u001b[39m# connection, and the user is reading more bytes than will be provided\u001b[39;00m\n\u001b[0;32m    506\u001b[0m \u001b[39m# (for example, reading in 1k chunks)\u001b[39;00m\n\u001b[1;32m--> 507\u001b[0m n \u001b[39m=\u001b[39m \u001b[39mself\u001b[39;49m\u001b[39m.\u001b[39;49mfp\u001b[39m.\u001b[39;49mreadinto(b)\n\u001b[0;32m    508\u001b[0m \u001b[39mif\u001b[39;00m \u001b[39mnot\u001b[39;00m n \u001b[39mand\u001b[39;00m b:\n\u001b[0;32m    509\u001b[0m     \u001b[39m# Ideally, we would raise IncompleteRead if the content-length\u001b[39;00m\n\u001b[0;32m    510\u001b[0m     \u001b[39m# wasn't satisfied, but it might break compatibility.\u001b[39;00m\n\u001b[0;32m    511\u001b[0m     \u001b[39mself\u001b[39m\u001b[39m.\u001b[39m_close_conn()\n",
      "File \u001b[1;32mc:\\Users\\PF2L6BL6\\anaconda3\\envs\\dataviz-env\\lib\\socket.py:704\u001b[0m, in \u001b[0;36mSocketIO.readinto\u001b[1;34m(self, b)\u001b[0m\n\u001b[0;32m    702\u001b[0m \u001b[39mwhile\u001b[39;00m \u001b[39mTrue\u001b[39;00m:\n\u001b[0;32m    703\u001b[0m     \u001b[39mtry\u001b[39;00m:\n\u001b[1;32m--> 704\u001b[0m         \u001b[39mreturn\u001b[39;00m \u001b[39mself\u001b[39;49m\u001b[39m.\u001b[39;49m_sock\u001b[39m.\u001b[39;49mrecv_into(b)\n\u001b[0;32m    705\u001b[0m     \u001b[39mexcept\u001b[39;00m timeout:\n\u001b[0;32m    706\u001b[0m         \u001b[39mself\u001b[39m\u001b[39m.\u001b[39m_timeout_occurred \u001b[39m=\u001b[39m \u001b[39mTrue\u001b[39;00m\n",
      "File \u001b[1;32mc:\\Users\\PF2L6BL6\\anaconda3\\envs\\dataviz-env\\lib\\ssl.py:1242\u001b[0m, in \u001b[0;36mSSLSocket.recv_into\u001b[1;34m(self, buffer, nbytes, flags)\u001b[0m\n\u001b[0;32m   1238\u001b[0m     \u001b[39mif\u001b[39;00m flags \u001b[39m!=\u001b[39m \u001b[39m0\u001b[39m:\n\u001b[0;32m   1239\u001b[0m         \u001b[39mraise\u001b[39;00m \u001b[39mValueError\u001b[39;00m(\n\u001b[0;32m   1240\u001b[0m           \u001b[39m\"\u001b[39m\u001b[39mnon-zero flags not allowed in calls to recv_into() on \u001b[39m\u001b[39m%s\u001b[39;00m\u001b[39m\"\u001b[39m \u001b[39m%\u001b[39m\n\u001b[0;32m   1241\u001b[0m           \u001b[39mself\u001b[39m\u001b[39m.\u001b[39m\u001b[39m__class__\u001b[39m)\n\u001b[1;32m-> 1242\u001b[0m     \u001b[39mreturn\u001b[39;00m \u001b[39mself\u001b[39;49m\u001b[39m.\u001b[39;49mread(nbytes, buffer)\n\u001b[0;32m   1243\u001b[0m \u001b[39melse\u001b[39;00m:\n\u001b[0;32m   1244\u001b[0m     \u001b[39mreturn\u001b[39;00m \u001b[39msuper\u001b[39m()\u001b[39m.\u001b[39mrecv_into(buffer, nbytes, flags)\n",
      "File \u001b[1;32mc:\\Users\\PF2L6BL6\\anaconda3\\envs\\dataviz-env\\lib\\ssl.py:1100\u001b[0m, in \u001b[0;36mSSLSocket.read\u001b[1;34m(self, len, buffer)\u001b[0m\n\u001b[0;32m   1098\u001b[0m \u001b[39mtry\u001b[39;00m:\n\u001b[0;32m   1099\u001b[0m     \u001b[39mif\u001b[39;00m buffer \u001b[39mis\u001b[39;00m \u001b[39mnot\u001b[39;00m \u001b[39mNone\u001b[39;00m:\n\u001b[1;32m-> 1100\u001b[0m         \u001b[39mreturn\u001b[39;00m \u001b[39mself\u001b[39;49m\u001b[39m.\u001b[39;49m_sslobj\u001b[39m.\u001b[39;49mread(\u001b[39mlen\u001b[39;49m, buffer)\n\u001b[0;32m   1101\u001b[0m     \u001b[39melse\u001b[39;00m:\n\u001b[0;32m   1102\u001b[0m         \u001b[39mreturn\u001b[39;00m \u001b[39mself\u001b[39m\u001b[39m.\u001b[39m_sslobj\u001b[39m.\u001b[39mread(\u001b[39mlen\u001b[39m)\n",
      "\u001b[1;31mKeyboardInterrupt\u001b[0m: "
     ]
    }
   ],
   "source": [
    "import transformers\n",
    "from transformers import pipeline\n",
    "ner = pipeline(\"ner\", model=\"cahya/xlm-roberta-base-indonesian-NER\", tokenizer=\"cahya/xlm-roberta-base-indonesian-NER\")"
   ]
  },
  {
   "cell_type": "code",
   "execution_count": 12,
   "metadata": {},
   "outputs": [],
   "source": [
    "# def clean_article_text(article_text):\n",
    "#     # Remove unicode escape characters\n",
    "#     cleaned_text = re.sub(r'\\\\u[0-9a-fA-F]{4}', '', article_text)\n",
    "    \n",
    "#     # Replace escaped characters\n",
    "#     cleaned_text = cleaned_text.replace('\\\\r\\\\n', '\\n').replace('\\\\&', '&').replace('\\\\/', '/')\n",
    "    \n",
    "#     # Remove HTML tags\n",
    "#     cleaned_text = re.sub(r'<[^>]+>', '', cleaned_text)\n",
    "    \n",
    "#     # Remove extra whitespace\n",
    "#     cleaned_text = re.sub(r'\\s+', ' ', cleaned_text).strip()\n",
    "\n",
    "#     return cleaned_text\n",
    "\n",
    "# cleaned_article_text = clean_article_text(article_text)\n",
    "# print(cleaned_article_text)\n"
   ]
  },
  {
   "cell_type": "code",
   "execution_count": null,
   "metadata": {},
   "outputs": [],
   "source": []
  },
  {
   "cell_type": "code",
   "execution_count": null,
   "metadata": {},
   "outputs": [],
   "source": []
  },
  {
   "cell_type": "code",
   "execution_count": null,
   "metadata": {},
   "outputs": [],
   "source": []
  },
  {
   "cell_type": "code",
   "execution_count": null,
   "metadata": {},
   "outputs": [],
   "source": []
  },
  {
   "cell_type": "code",
   "execution_count": null,
   "metadata": {},
   "outputs": [],
   "source": []
  },
  {
   "cell_type": "code",
   "execution_count": null,
   "metadata": {},
   "outputs": [],
   "source": []
  },
  {
   "cell_type": "code",
   "execution_count": null,
   "metadata": {},
   "outputs": [],
   "source": []
  },
  {
   "cell_type": "code",
   "execution_count": null,
   "metadata": {},
   "outputs": [],
   "source": []
  },
  {
   "cell_type": "code",
   "execution_count": null,
   "metadata": {},
   "outputs": [],
   "source": []
  },
  {
   "cell_type": "code",
   "execution_count": null,
   "metadata": {},
   "outputs": [],
   "source": []
  },
  {
   "cell_type": "code",
   "execution_count": null,
   "metadata": {},
   "outputs": [],
   "source": []
  }
 ],
 "metadata": {
  "kernelspec": {
   "display_name": "dataviz-env",
   "language": "python",
   "name": "python3"
  },
  "language_info": {
   "codemirror_mode": {
    "name": "ipython",
    "version": 3
   },
   "file_extension": ".py",
   "mimetype": "text/x-python",
   "name": "python",
   "nbconvert_exporter": "python",
   "pygments_lexer": "ipython3",
   "version": "3.9.16"
  },
  "orig_nbformat": 4
 },
 "nbformat": 4,
 "nbformat_minor": 2
}

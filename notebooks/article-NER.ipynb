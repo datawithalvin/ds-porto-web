{
 "cells": [
  {
   "cell_type": "code",
   "execution_count": 1,
   "metadata": {},
   "outputs": [
    {
     "name": "stderr",
     "output_type": "stream",
     "text": [
      "[nltk_data] Downloading package punkt to\n",
      "[nltk_data]     C:\\Users\\PF2L6BL6\\AppData\\Roaming\\nltk_data...\n",
      "[nltk_data]   Package punkt is already up-to-date!\n"
     ]
    }
   ],
   "source": [
    "import pandas as pd\n",
    "import numpy as np\n",
    "import time\n",
    "import datetime\n",
    "\n",
    "import nltk\n",
    "from nltk.tokenize import sent_tokenize\n",
    "nltk.download(\"punkt\")\n",
    "\n",
    "from newspaper import Article"
   ]
  },
  {
   "cell_type": "code",
   "execution_count": 4,
   "metadata": {},
   "outputs": [
    {
     "data": {
      "text/plain": [
       "''"
      ]
     },
     "execution_count": 4,
     "metadata": {},
     "output_type": "execute_result"
    }
   ],
   "source": [
    "news_url = \"https://deduktif.id/eeeaaa-ada-artis-dan-influencer-di-iklan-judi-online\"\n",
    "\n",
    "get_article = Article(news_url)\n",
    "get_article.download()\n",
    "get_article.parse()\n",
    "full_text = get_article.text\n",
    "full_text"
   ]
  },
  {
   "cell_type": "code",
   "execution_count": 5,
   "metadata": {},
   "outputs": [
    {
     "name": "stdout",
     "output_type": "stream",
     "text": [
      "Arman terperanjat saat ditawari \\u0026lt;em\\u0026gt;endorsement \\u0026lt;/em\\u0026gt;yang nilainya delapan kali lipat dari yang biasa ia terima. Tawaran itu datang dari rumah judi online. Jika biasanya ia dibayar Rp1 juta untuk satu postingan, ia ditawari Rp8 juta. Tawaran itu jelas menggiurkan.\\u0026lt;/h3\\u0026gt;\\r\\n\\r\\n\\u0026lt;h3\\u0026gt;Arman bukan nama sebenarnya. Usia 24, domisili Semarang. Pengikutnya di Instagram 300 ribuan. Ia rutin mengunggah konten-konten seputar \\u0026lt;em\\u0026gt;esport\\u0026lt;/em\\u0026gt;: mulai dari panduan mekanik\\u0026amp;nbsp; untuk \\u0026lt;em\\u0026gt;hero \\u0026lt;/em\\u0026gt;dalam permainan MOBA (Multiplayer Online Battle Arena), tips dan trik, sampai trivia tim-tim \\u0026lt;em\\u0026gt;esport \\u0026lt;/em\\u0026gt;yang berkompetisi di liga lokal. Selain itu, Arman juga \\u0026lt;em\\u0026gt;streamer \\u0026lt;/em\\u0026gt;yang kontennya diunggah di YouTube.\\u0026lt;/h3\\u0026gt;\\r\\n\\r\\n\\u0026lt;p\\u0026gt;\\u0026lt;em\\u0026gt;Endorsement \\u0026lt;/em\\u0026gt;yang sebelumnya pernah ia ambil antara lain dari gerai \\u0026lt;em\\u0026gt;top-up \\u0026lt;/em\\u0026gt;gim daring dan produk digital, brand pakaian, minuman kemasan saset, dan dagangan temannya.\\u0026lt;/p\\u0026gt;\\r\\n\\r\\n\\u0026lt;p\\u0026gt;Rumah judi online itu meminta Arman mempromosikan permainan slot di situsweb mereka. Rinciannya, Rp8 juta untuk satu postingan di \\u0026lt;em\\u0026gt;feed \\u0026lt;/em\\u0026gt;dengan format bebas (foto atau video pendek), membubuhkan logo, plus \\u0026lt;em\\u0026gt;copy\\u0026lt;/em\\u0026gt; ringkas promo yang ditawarkan.\\u0026lt;/p\\u0026gt;\\r\\n\\r\\n\\u0026lt;p\\u0026gt;Arman meminta pendapat temannya sesama selebgram. Temannya menyarankan terima saja. \\u0026amp;ldquo;Akhirnya saya terima,\\u0026amp;rdquo; katanya.\\u0026lt;/p\\u0026gt;\\r\\n\\r\\n\\u0026lt;p\\u0026gt;Setelah konten \\u0026lt;em\\u0026gt;endorsement \\u0026lt;/em\\u0026gt;diunggah, beberapa temannya menghubungi. Ada yang berseloroh nilainya \\u0026lt;em\\u0026gt;pasti\\u0026lt;/em\\u0026gt; besar, ada yang bertanya kenapa mau, ada juga yang memujinya nyali besar.\\u0026lt;/p\\u0026gt;\\r\\n\\r\\n\\u0026lt;h3\\u0026gt;Menurut Naldo, \\u0026lt;a href=\\u0026quot;https://deduktif.id/menambang-cuan-dari-judi-online\\u0026quot;\\u0026gt;\\u0026lt;u\\u0026gt;tokoh kita di tulisan pertama\\u0026lt;/u\\u0026gt;\\u0026lt;/a\\u0026gt;, itu memang praktik umum di rumah-rumah judi online\\u0026amp;ndash;selain menggunakan \\u0026lt;em\\u0026gt;Google Ads\\u0026lt;/em\\u0026gt;.\\u0026amp;nbsp; \\u0026amp;ldquo;Orang marketing pernah saya \\u0026lt;em\\u0026gt;tugasin\\u0026lt;/em\\u0026gt; cari artis atau penyanyi dangdut,\\u0026amp;rdquo; katanya, \\u0026amp;ldquo;tapi hanya ada satu yang mau. Sisanya menolak karena takut diciduk.\\u0026amp;rdquo; Nilainya Rp15 juta per postingan.\\u0026amp;nbsp;\\u0026lt;/h3\\u0026gt;\\r\\n\\r\\n\\u0026lt;p\\u0026gt;Rumah judi Naldo sengaja menyasar pengikut penyanyi dangdut, kerena mereka adalah para pekerja atau kelompok sosial yang sehari-hari memang lekat dengan judi online yang sangat mudah diakses. Entah itu slot, tebak nomor, atau tebak skor. \\u0026amp;ldquo;Waktu itu saya siapkan \\u0026lt;em\\u0026gt;budget \\u0026lt;/em\\u0026gt;sekitar Rp200 juta.\\u0026amp;rdquo;\\u0026amp;nbsp;\\u0026lt;/p\\u0026gt;\\r\\n\\r\\n\\u0026lt;p\\u0026gt;Beberapa kenalan Naldo yang mengoperasikan rumah judi juga melakukan hal yang sama. Bedanya di tipe artis atau \\u0026lt;em\\u0026gt;influencer. \\u0026lt;/em\\u0026gt;Ada yang lebih suka aktor, atau komedian, atau musisi, atau model yang punya rekam jejak di majalah pria dewasa, atau selebgram dan \\u0026lt;em\\u0026gt;streamer \\u0026lt;/em\\u0026gt;seperti Arman.\\u0026lt;/p\\u0026gt;\\r\\n\\r\\n\\u0026lt;p\\u0026gt;***\\u0026lt;/p\\u0026gt;\\r\\n\\r\\n\\u0026lt;p\\u0026gt;Pada Mei 2017, Nikita Mirzani mempromosikan Jaya Bet lewat unggahan di akun Instagramnya. Di \\u0026lt;em\\u0026gt;caption\\u0026lt;/em\\u0026gt; unggahan Nikita, tertera pilihan permainan yang Jaya Bet sediakan.\\u0026lt;/p\\u0026gt;\\r\\n\\r\\n\\u0026lt;p\\u0026gt;Selain Nikita, masih ada artis lain yang kemudian menerima \\u0026lt;em\\u0026gt;endorsement \\u0026lt;/em\\u0026gt;dari rumah judi online yang sama. Antara lain Amanda Manopo, Chelsea Veronnia yang merupakan sepupu selebgram ternama Rachel Venya, dan terakhir ada Sheila Marcia. Ketiganya mempromosikan juga situs Jaya Bet lewat akun Instagram masing-masing, berselang sekitar satu bulan dari unggahan Nikita.\\u0026lt;/p\\u0026gt;\\r\\n\\r\\n\\u0026lt;p\\u0026gt;Karena unggahan itu, Nikita Mirzani dilaporkan ke kepolisian. Amanda, Chelsea, dan Sheila beruntung tidak sampai dilaporkan, tapi mereka kemudian menghapus unggahan.\\u0026lt;/p\\u0026gt;\\r\\n\\r\\n\\u0026lt;p\\u0026gt;Tidak hanya lewat Instagram, beberapa nama besar artis lain memanfaatkan YouTube. Salah satunya \\u0026lt;a href=\\u0026quot;https://www.youtube.com/watch?v=PdNor3GiEmM\\u0026quot;\\u0026gt;\\u0026lt;u\\u0026gt;Dewi Persik\\u0026lt;/u\\u0026gt;\\u0026lt;/a\\u0026gt;, yang mempromosikan situs M11 Slot. Komedian \\u0026lt;a href=\\u0026quot;https://www.youtube.com/shorts/e0sB9L_Tp4c\\u0026quot;\\u0026gt;\\u0026lt;u\\u0026gt;Denny Cagur\\u0026lt;/u\\u0026gt;\\u0026lt;/a\\u0026gt;, yang mempromosikan Agen 138 di unggahan YouTube Short Hoki Slot. Nama besar lain, penyanyi kondang \\u0026lt;a href=\\u0026quot;https://www.youtube.com/shorts/Gzi8wxtu-Mc\\u0026quot;\\u0026gt;\\u0026lt;u\\u0026gt;Ari Lasso\\u0026lt;/u\\u0026gt;\\u0026lt;/a\\u0026gt; dan artis multi talenta \\u0026lt;a href=\\u0026quot;https://www.youtube.com/shorts/Fyu7NoUSU30\\u0026quot;\\u0026gt;\\u0026lt;u\\u0026gt;Boy William\\u0026lt;/u\\u0026gt;\\u0026lt;/a\\u0026gt;, turut juga mempromosikan Agen 138.\\u0026lt;/p\\u0026gt;\\r\\n\\r\\n\\u0026lt;p\\u0026gt;Yang menarik, para artis itu mengganti frasa \\u0026amp;ldquo;judi online\\u0026amp;rdquo; dengan \\u0026amp;ldquo;game online\\u0026amp;rdquo;. Dan mereka mengulang-ulang kalimat \\u0026amp;ldquo;game online ini sudah mempunyai lisensi dan terakreditasi\\u0026amp;rdquo;.\\u0026amp;nbsp;\\u0026lt;/p\\u0026gt;\\r\\n\\r\\n\\u0026lt;p\\u0026gt;Lisensi dari siapa? Akreditasi macam apa? Tidak jelas. Tapi bayaran mereka pasti berpuluh kali lipat dari yang diterima Arman.\\u0026lt;/p\\u0026gt;\\r\\n\\r\\n\\u0026lt;p\\u0026gt;***\\u0026lt;/p\\u0026gt;\\r\\n\\r\\n\\u0026lt;p\\u0026gt;Setelah dua minggu, Arman kemudian menghapus unggahan \\u0026lt;em\\u0026gt;endorsement\\u0026lt;/em\\u0026gt; dari rumah judi. Kerja samanya memang hanya untuk jangka waktu dua minggu. Sejak saat itu, Arman mengaku kapok. \\u0026amp;ldquo;Resikonya enggak main-main. Bisa dipenjara saya. Yang aman-aman aja, deh\\u0026lt;em\\u0026gt;,\\u0026lt;/em\\u0026gt;\\u0026amp;rdquo; katanya.\\u0026lt;/p\\u0026gt;\\r\\n\\r\\n\\u0026lt;p\\u0026gt;Arman semakin takut ketika salah satu selebgram perempuan kenalannya ditangkap oleh kepolisian pada Agustus 2022. \\u0026amp;ldquo;Saya tidak kenal di \\u0026lt;em\\u0026gt;real life, \\u0026lt;/em\\u0026gt;tapi saling \\u0026lt;em\\u0026gt;follow \\u0026lt;/em\\u0026gt;di Instagram. Dia ditangkap di Pemalang,\\u0026amp;rdquo; terangnya. Sosok selebgram perempuan itu adalah Risa Musfita, yang mempromosikan Naga 303.\\u0026lt;/p\\u0026gt;\\r\\n\\r\\n\\u0026lt;p\\u0026gt;Untuk penangkapan Risa Musfita, aparat kepolisian memakai Pasal 45 Ayat (2) juncto Pasal 27 Ayat (2) Undang-undang Informasi dan Transaksi Elektronik (UU ITE) tentang penyebaran akses informasi perjudian di media elektronik. Risa juga dikenakan Pasal 303 Ayat (1) KUHP tentang kesengajaan memberikan kesempatan perjudian atau turut serta dalam perusahaan perjudian. Ancaman pidananya sendiri maksimal 10 tahun penjara atau denda maksimal Rp 1 miliar.\\u0026lt;/p\\u0026gt;\\r\\n\\r\\n\\u0026lt;p\\u0026gt;Dalam laporan investigasi \\u0026lt;a href=\\u0026quot;https://globalinitiative.net/wp-content/uploads/2022/08/GITOC-APA-Obs-Asian-roulette-Criminogenic-casinos-and-illicit-trade-in-environmental-commodities-in-South-East-Asia.pdf\\u0026quot;\\u0026gt;\\u0026lt;em\\u0026gt;\\u0026lt;u\\u0026gt;Asian Roulette\\u0026lt;/u\\u0026gt;\\u0026lt;/em\\u0026gt;\\u0026lt;/a\\u0026gt;\\u0026lt;em\\u0026gt;: Criminogenic casinos and illicit trade environmental commodities in South East Asia \\u0026lt;/em\\u0026gt;yang dirilis oleh The Global Initiative Against Transnational Organized Crime pada Juli 2022, wilayah Asia Pasifik merupakan pasar perjudian terbesar dengan tingkat pertumbuhan yang paling pesat di seluruh dunia.\\u0026lt;/p\\u0026gt;\\r\\n\\r\\n\\u0026lt;p\\u0026gt;Proliferasi kasino fisik dan online di Asia Tenggara berada dalam yurisdiksi yang lemah dan zona ekonomi khusus, sehingga pengaturannya sangat permisif. Organisasi kriminal cukup leluasa mengoperasikan kasino maupun rumah judi online. Berbagai kejahatan berat\\u0026amp;ndash;termasuk pencucian uang, perdagangan narkoba dan manusia, serta prostitusi\\u0026amp;ndash;berkembang pesat dari masifnya pertumbuhan kasino serta rumah judi online di Asia.\\u0026lt;/p\\u0026gt;\\r\\n\\r\\n\\u0026lt;p\\u0026gt;Menurut M. Natsir Kongah, Koordinator Kelompok Substansi Humas PPATK, artis atau \\u0026lt;em\\u0026gt;influencer \\u0026lt;/em\\u0026gt;yang ada di pusaran ini tidak hanya berada di hilir\\u0026amp;ndash;atau sebatas orang yang mempromosikan saja; bisa saja mereka juga ada di hulu operasi. Ini terjadi pada kasus Indra Kenz terkait penipuan Binomo, di mana PPATK mengendus adanya aliran dana ke pemilik rumah judi online Rusia.\\u0026lt;/p\\u0026gt;\\r\\n\\r\\n\\u0026lt;p\\u0026gt;\\u0026amp;ldquo;Ada senilai Rp155 triliun, yang merupakan akumulasi dari 121 transaksi yang ditemukan PPATK,\\u0026amp;rdquo; kata Natsir.\\u0026lt;/p\\u0026gt;\",\"thumbnail\":\"1677174771_Deduktif-Header-Rumah-Judi-Rangga.jpg\",\"thumbnail_social\":\"1677174771_Deduktif-Header-Rumah-Judi-Rangga.jpg\",\"post_date\":\"2023-02-24 16:00:00\",\"created_at\":\"2023-02-23 17:52:51\",\"id_topic_deduktif\":15,\"author_name\":\"Fajar Nugraha\",\"author_image\":\"1655669770_fajar-nugraha.png\",\"header_background_color\":null,\"article_background_color\":\"141414\",\"footer_background_color\":\"7ce2e7\",\"topic_parent\":\"Rumah Judi\",\"topic\":\"Rumah Judi\"},\"domainname\":\"deduktif\"},\"__N_SSP\":true},\"page\":\"/[...slug]\",\"query\":{\"slug\":[\"eeeaaa-ada-artis-dan-influencer-di-iklan-judi-online\"]},\"buildId\":\"WQ1HhhyHMZNbmvJTH3DnL\",\"isFallback\":false,\"gssp\":true,\"scriptLoader\":[]}\n"
     ]
    }
   ],
   "source": [
    "import requests\n",
    "from bs4 import BeautifulSoup\n",
    "\n",
    "url = \"https://deduktif.id/eeeaaa-ada-artis-dan-influencer-di-iklan-judi-online\"\n",
    "\n",
    "# Send a GET request to the URL\n",
    "response = requests.get(url)\n",
    "\n",
    "# Parse the HTML content using BeautifulSoup\n",
    "soup = BeautifulSoup(response.content, \"html.parser\")\n",
    "\n",
    "# Find the script tag containing the article text\n",
    "script = soup.find(\"script\", {\"id\": \"__NEXT_DATA__\"})\n",
    "\n",
    "# Extract the article text from the script tag\n",
    "article_text = script.contents[0].split('{\"id\":98,\"title\":\"Eeeaaa')[1].split(\"</script>\")[0]\n",
    "\n",
    "# Find the start of the article text and remove the preceding characters\n",
    "start_index = article_text.index(\"Arman terperanjat saat ditawari\")\n",
    "article_text = article_text[start_index:]\n",
    "\n",
    "# Print the article text\n",
    "print(article_text)"
   ]
  },
  {
   "cell_type": "code",
   "execution_count": 6,
   "metadata": {},
   "outputs": [
    {
     "data": {
      "text/plain": [
       "'Arman terperanjat saat ditawari \\\\u0026lt;em\\\\u0026gt;endorsement \\\\u0026lt;/em\\\\u0026gt;yang nilainya delapan kali lipat dari yang biasa ia terima. Tawaran itu datang dari rumah judi online. Jika biasanya ia dibayar Rp1 juta untuk satu postingan, ia ditawari Rp8 juta. Tawaran itu jelas menggiurkan.\\\\u0026lt;/h3\\\\u0026gt;\\\\r\\\\n\\\\r\\\\n\\\\u0026lt;h3\\\\u0026gt;Arman bukan nama sebenarnya. Usia 24, domisili Semarang. Pengikutnya di Instagram 300 ribuan. Ia rutin mengunggah konten-konten seputar \\\\u0026lt;em\\\\u0026gt;esport\\\\u0026lt;/em\\\\u0026gt;: mulai dari panduan mekanik\\\\u0026amp;nbsp; untuk \\\\u0026lt;em\\\\u0026gt;hero \\\\u0026lt;/em\\\\u0026gt;dalam permainan MOBA (Multiplayer Online Battle Arena), tips dan trik, sampai trivia tim-tim \\\\u0026lt;em\\\\u0026gt;esport \\\\u0026lt;/em\\\\u0026gt;yang berkompetisi di liga lokal. Selain itu, Arman juga \\\\u0026lt;em\\\\u0026gt;streamer \\\\u0026lt;/em\\\\u0026gt;yang kontennya diunggah di YouTube.\\\\u0026lt;/h3\\\\u0026gt;\\\\r\\\\n\\\\r\\\\n\\\\u0026lt;p\\\\u0026gt;\\\\u0026lt;em\\\\u0026gt;Endorsement \\\\u0026lt;/em\\\\u0026gt;yang sebelumnya pernah ia ambil antara lain dari gerai \\\\u0026lt;em\\\\u0026gt;top-up \\\\u0026lt;/em\\\\u0026gt;gim daring dan produk digital, brand pakaian, minuman kemasan saset, dan dagangan temannya.\\\\u0026lt;/p\\\\u0026gt;\\\\r\\\\n\\\\r\\\\n\\\\u0026lt;p\\\\u0026gt;Rumah judi online itu meminta Arman mempromosikan permainan slot di situsweb mereka. Rinciannya, Rp8 juta untuk satu postingan di \\\\u0026lt;em\\\\u0026gt;feed \\\\u0026lt;/em\\\\u0026gt;dengan format bebas (foto atau video pendek), membubuhkan logo, plus \\\\u0026lt;em\\\\u0026gt;copy\\\\u0026lt;/em\\\\u0026gt; ringkas promo yang ditawarkan.\\\\u0026lt;/p\\\\u0026gt;\\\\r\\\\n\\\\r\\\\n\\\\u0026lt;p\\\\u0026gt;Arman meminta pendapat temannya sesama selebgram. Temannya menyarankan terima saja. \\\\u0026amp;ldquo;Akhirnya saya terima,\\\\u0026amp;rdquo; katanya.\\\\u0026lt;/p\\\\u0026gt;\\\\r\\\\n\\\\r\\\\n\\\\u0026lt;p\\\\u0026gt;Setelah konten \\\\u0026lt;em\\\\u0026gt;endorsement \\\\u0026lt;/em\\\\u0026gt;diunggah, beberapa temannya menghubungi. Ada yang berseloroh nilainya \\\\u0026lt;em\\\\u0026gt;pasti\\\\u0026lt;/em\\\\u0026gt; besar, ada yang bertanya kenapa mau, ada juga yang memujinya nyali besar.\\\\u0026lt;/p\\\\u0026gt;\\\\r\\\\n\\\\r\\\\n\\\\u0026lt;h3\\\\u0026gt;Menurut Naldo, \\\\u0026lt;a href=\\\\u0026quot;https://deduktif.id/menambang-cuan-dari-judi-online\\\\u0026quot;\\\\u0026gt;\\\\u0026lt;u\\\\u0026gt;tokoh kita di tulisan pertama\\\\u0026lt;/u\\\\u0026gt;\\\\u0026lt;/a\\\\u0026gt;, itu memang praktik umum di rumah-rumah judi online\\\\u0026amp;ndash;selain menggunakan \\\\u0026lt;em\\\\u0026gt;Google Ads\\\\u0026lt;/em\\\\u0026gt;.\\\\u0026amp;nbsp; \\\\u0026amp;ldquo;Orang marketing pernah saya \\\\u0026lt;em\\\\u0026gt;tugasin\\\\u0026lt;/em\\\\u0026gt; cari artis atau penyanyi dangdut,\\\\u0026amp;rdquo; katanya, \\\\u0026amp;ldquo;tapi hanya ada satu yang mau. Sisanya menolak karena takut diciduk.\\\\u0026amp;rdquo; Nilainya Rp15 juta per postingan.\\\\u0026amp;nbsp;\\\\u0026lt;/h3\\\\u0026gt;\\\\r\\\\n\\\\r\\\\n\\\\u0026lt;p\\\\u0026gt;Rumah judi Naldo sengaja menyasar pengikut penyanyi dangdut, kerena mereka adalah para pekerja atau kelompok sosial yang sehari-hari memang lekat dengan judi online yang sangat mudah diakses. Entah itu slot, tebak nomor, atau tebak skor. \\\\u0026amp;ldquo;Waktu itu saya siapkan \\\\u0026lt;em\\\\u0026gt;budget \\\\u0026lt;/em\\\\u0026gt;sekitar Rp200 juta.\\\\u0026amp;rdquo;\\\\u0026amp;nbsp;\\\\u0026lt;/p\\\\u0026gt;\\\\r\\\\n\\\\r\\\\n\\\\u0026lt;p\\\\u0026gt;Beberapa kenalan Naldo yang mengoperasikan rumah judi juga melakukan hal yang sama. Bedanya di tipe artis atau \\\\u0026lt;em\\\\u0026gt;influencer. \\\\u0026lt;/em\\\\u0026gt;Ada yang lebih suka aktor, atau komedian, atau musisi, atau model yang punya rekam jejak di majalah pria dewasa, atau selebgram dan \\\\u0026lt;em\\\\u0026gt;streamer \\\\u0026lt;/em\\\\u0026gt;seperti Arman.\\\\u0026lt;/p\\\\u0026gt;\\\\r\\\\n\\\\r\\\\n\\\\u0026lt;p\\\\u0026gt;***\\\\u0026lt;/p\\\\u0026gt;\\\\r\\\\n\\\\r\\\\n\\\\u0026lt;p\\\\u0026gt;Pada Mei 2017, Nikita Mirzani mempromosikan Jaya Bet lewat unggahan di akun Instagramnya. Di \\\\u0026lt;em\\\\u0026gt;caption\\\\u0026lt;/em\\\\u0026gt; unggahan Nikita, tertera pilihan permainan yang Jaya Bet sediakan.\\\\u0026lt;/p\\\\u0026gt;\\\\r\\\\n\\\\r\\\\n\\\\u0026lt;p\\\\u0026gt;Selain Nikita, masih ada artis lain yang kemudian menerima \\\\u0026lt;em\\\\u0026gt;endorsement \\\\u0026lt;/em\\\\u0026gt;dari rumah judi online yang sama. Antara lain Amanda Manopo, Chelsea Veronnia yang merupakan sepupu selebgram ternama Rachel Venya, dan terakhir ada Sheila Marcia. Ketiganya mempromosikan juga situs Jaya Bet lewat akun Instagram masing-masing, berselang sekitar satu bulan dari unggahan Nikita.\\\\u0026lt;/p\\\\u0026gt;\\\\r\\\\n\\\\r\\\\n\\\\u0026lt;p\\\\u0026gt;Karena unggahan itu, Nikita Mirzani dilaporkan ke kepolisian. Amanda, Chelsea, dan Sheila beruntung tidak sampai dilaporkan, tapi mereka kemudian menghapus unggahan.\\\\u0026lt;/p\\\\u0026gt;\\\\r\\\\n\\\\r\\\\n\\\\u0026lt;p\\\\u0026gt;Tidak hanya lewat Instagram, beberapa nama besar artis lain memanfaatkan YouTube. Salah satunya \\\\u0026lt;a href=\\\\u0026quot;https://www.youtube.com/watch?v=PdNor3GiEmM\\\\u0026quot;\\\\u0026gt;\\\\u0026lt;u\\\\u0026gt;Dewi Persik\\\\u0026lt;/u\\\\u0026gt;\\\\u0026lt;/a\\\\u0026gt;, yang mempromosikan situs M11 Slot. Komedian \\\\u0026lt;a href=\\\\u0026quot;https://www.youtube.com/shorts/e0sB9L_Tp4c\\\\u0026quot;\\\\u0026gt;\\\\u0026lt;u\\\\u0026gt;Denny Cagur\\\\u0026lt;/u\\\\u0026gt;\\\\u0026lt;/a\\\\u0026gt;, yang mempromosikan Agen 138 di unggahan YouTube Short Hoki Slot. Nama besar lain, penyanyi kondang \\\\u0026lt;a href=\\\\u0026quot;https://www.youtube.com/shorts/Gzi8wxtu-Mc\\\\u0026quot;\\\\u0026gt;\\\\u0026lt;u\\\\u0026gt;Ari Lasso\\\\u0026lt;/u\\\\u0026gt;\\\\u0026lt;/a\\\\u0026gt; dan artis multi talenta \\\\u0026lt;a href=\\\\u0026quot;https://www.youtube.com/shorts/Fyu7NoUSU30\\\\u0026quot;\\\\u0026gt;\\\\u0026lt;u\\\\u0026gt;Boy William\\\\u0026lt;/u\\\\u0026gt;\\\\u0026lt;/a\\\\u0026gt;, turut juga mempromosikan Agen 138.\\\\u0026lt;/p\\\\u0026gt;\\\\r\\\\n\\\\r\\\\n\\\\u0026lt;p\\\\u0026gt;Yang menarik, para artis itu mengganti frasa \\\\u0026amp;ldquo;judi online\\\\u0026amp;rdquo; dengan \\\\u0026amp;ldquo;game online\\\\u0026amp;rdquo;. Dan mereka mengulang-ulang kalimat \\\\u0026amp;ldquo;game online ini sudah mempunyai lisensi dan terakreditasi\\\\u0026amp;rdquo;.\\\\u0026amp;nbsp;\\\\u0026lt;/p\\\\u0026gt;\\\\r\\\\n\\\\r\\\\n\\\\u0026lt;p\\\\u0026gt;Lisensi dari siapa? Akreditasi macam apa? Tidak jelas. Tapi bayaran mereka pasti berpuluh kali lipat dari yang diterima Arman.\\\\u0026lt;/p\\\\u0026gt;\\\\r\\\\n\\\\r\\\\n\\\\u0026lt;p\\\\u0026gt;***\\\\u0026lt;/p\\\\u0026gt;\\\\r\\\\n\\\\r\\\\n\\\\u0026lt;p\\\\u0026gt;Setelah dua minggu, Arman kemudian menghapus unggahan \\\\u0026lt;em\\\\u0026gt;endorsement\\\\u0026lt;/em\\\\u0026gt; dari rumah judi. Kerja samanya memang hanya untuk jangka waktu dua minggu. Sejak saat itu, Arman mengaku kapok. \\\\u0026amp;ldquo;Resikonya enggak main-main. Bisa dipenjara saya. Yang aman-aman aja, deh\\\\u0026lt;em\\\\u0026gt;,\\\\u0026lt;/em\\\\u0026gt;\\\\u0026amp;rdquo; katanya.\\\\u0026lt;/p\\\\u0026gt;\\\\r\\\\n\\\\r\\\\n\\\\u0026lt;p\\\\u0026gt;Arman semakin takut ketika salah satu selebgram perempuan kenalannya ditangkap oleh kepolisian pada Agustus 2022. \\\\u0026amp;ldquo;Saya tidak kenal di \\\\u0026lt;em\\\\u0026gt;real life, \\\\u0026lt;/em\\\\u0026gt;tapi saling \\\\u0026lt;em\\\\u0026gt;follow \\\\u0026lt;/em\\\\u0026gt;di Instagram. Dia ditangkap di Pemalang,\\\\u0026amp;rdquo; terangnya. Sosok selebgram perempuan itu adalah Risa Musfita, yang mempromosikan Naga 303.\\\\u0026lt;/p\\\\u0026gt;\\\\r\\\\n\\\\r\\\\n\\\\u0026lt;p\\\\u0026gt;Untuk penangkapan Risa Musfita, aparat kepolisian memakai Pasal 45 Ayat (2) juncto Pasal 27 Ayat (2) Undang-undang Informasi dan Transaksi Elektronik (UU ITE) tentang penyebaran akses informasi perjudian di media elektronik. Risa juga dikenakan Pasal 303 Ayat (1) KUHP tentang kesengajaan memberikan kesempatan perjudian atau turut serta dalam perusahaan perjudian. Ancaman pidananya sendiri maksimal 10 tahun penjara atau denda maksimal Rp 1 miliar.\\\\u0026lt;/p\\\\u0026gt;\\\\r\\\\n\\\\r\\\\n\\\\u0026lt;p\\\\u0026gt;Dalam laporan investigasi \\\\u0026lt;a href=\\\\u0026quot;https://globalinitiative.net/wp-content/uploads/2022/08/GITOC-APA-Obs-Asian-roulette-Criminogenic-casinos-and-illicit-trade-in-environmental-commodities-in-South-East-Asia.pdf\\\\u0026quot;\\\\u0026gt;\\\\u0026lt;em\\\\u0026gt;\\\\u0026lt;u\\\\u0026gt;Asian Roulette\\\\u0026lt;/u\\\\u0026gt;\\\\u0026lt;/em\\\\u0026gt;\\\\u0026lt;/a\\\\u0026gt;\\\\u0026lt;em\\\\u0026gt;: Criminogenic casinos and illicit trade environmental commodities in South East Asia \\\\u0026lt;/em\\\\u0026gt;yang dirilis oleh The Global Initiative Against Transnational Organized Crime pada Juli 2022, wilayah Asia Pasifik merupakan pasar perjudian terbesar dengan tingkat pertumbuhan yang paling pesat di seluruh dunia.\\\\u0026lt;/p\\\\u0026gt;\\\\r\\\\n\\\\r\\\\n\\\\u0026lt;p\\\\u0026gt;Proliferasi kasino fisik dan online di Asia Tenggara berada dalam yurisdiksi yang lemah dan zona ekonomi khusus, sehingga pengaturannya sangat permisif. Organisasi kriminal cukup leluasa mengoperasikan kasino maupun rumah judi online. Berbagai kejahatan berat\\\\u0026amp;ndash;termasuk pencucian uang, perdagangan narkoba dan manusia, serta prostitusi\\\\u0026amp;ndash;berkembang pesat dari masifnya pertumbuhan kasino serta rumah judi online di Asia.\\\\u0026lt;/p\\\\u0026gt;\\\\r\\\\n\\\\r\\\\n\\\\u0026lt;p\\\\u0026gt;Menurut M. Natsir Kongah, Koordinator Kelompok Substansi Humas PPATK, artis atau \\\\u0026lt;em\\\\u0026gt;influencer \\\\u0026lt;/em\\\\u0026gt;yang ada di pusaran ini tidak hanya berada di hilir\\\\u0026amp;ndash;atau sebatas orang yang mempromosikan saja; bisa saja mereka juga ada di hulu operasi. Ini terjadi pada kasus Indra Kenz terkait penipuan Binomo, di mana PPATK mengendus adanya aliran dana ke pemilik rumah judi online Rusia.\\\\u0026lt;/p\\\\u0026gt;\\\\r\\\\n\\\\r\\\\n\\\\u0026lt;p\\\\u0026gt;\\\\u0026amp;ldquo;Ada senilai Rp155 triliun, yang merupakan akumulasi dari 121 transaksi yang ditemukan PPATK,\\\\u0026amp;rdquo; kata Natsir.\\\\u0026lt;/p\\\\u0026gt;\",\"thumbnail\":\"1677174771_Deduktif-Header-Rumah-Judi-Rangga.jpg\",\"thumbnail_social\":\"1677174771_Deduktif-Header-Rumah-Judi-Rangga.jpg\",\"post_date\":\"2023-02-24 16:00:00\",\"created_at\":\"2023-02-23 17:52:51\",\"id_topic_deduktif\":15,\"author_name\":\"Fajar Nugraha\",\"author_image\":\"1655669770_fajar-nugraha.png\",\"header_background_color\":null,\"article_background_color\":\"141414\",\"footer_background_color\":\"7ce2e7\",\"topic_parent\":\"Rumah Judi\",\"topic\":\"Rumah Judi\"},\"domainname\":\"deduktif\"},\"__N_SSP\":true},\"page\":\"/[...slug]\",\"query\":{\"slug\":[\"eeeaaa-ada-artis-dan-influencer-di-iklan-judi-online\"]},\"buildId\":\"WQ1HhhyHMZNbmvJTH3DnL\",\"isFallback\":false,\"gssp\":true,\"scriptLoader\":[]}'"
      ]
     },
     "execution_count": 6,
     "metadata": {},
     "output_type": "execute_result"
    }
   ],
   "source": [
    "article_text"
   ]
  },
  {
   "attachments": {},
   "cell_type": "markdown",
   "metadata": {},
   "source": [
    "'Arman terperanjat saat ditawari \\\\u0026lt;em\\\\u0026gt;endorsement \\\\u0026lt;/em\\\\u0026gt;yang nilainya delapan kali lipat dari yang biasa ia terima. Tawaran itu datang dari rumah judi online. Jika biasanya ia dibayar Rp1 juta untuk satu postingan, ia ditawari Rp8 juta. Tawaran itu jelas menggiurkan.\\\\u0026lt;/h3\\\\u0026gt;\\\\r\\\\n\\\\r\\\\n\\\\u0026lt;h3\\\\u0026gt;Arman bukan nama sebenarnya. Usia 24, domisili Semarang. Pengikutnya di Instagram 300 ribuan. Ia rutin mengunggah konten-konten seputar \\\\u0026lt;em\\\\u0026gt;esport\\\\u0026lt;/em\\\\u0026gt;: mulai dari panduan mekanik\\\\u0026amp;nbsp; untuk \\\\u0026lt;em\\\\u0026gt;hero \\\\u0026lt;/em\\\\u0026gt;dalam permainan MOBA (Multiplayer Online Battle Arena), tips dan trik, sampai trivia tim-tim \\\\u0026lt;em\\\\u0026gt;esport \\\\u0026lt;/em\\\\u0026gt;yang berkompetisi di liga lokal. Selain itu, Arman juga \\\\u0026lt;em\\\\u0026gt;streamer \\\\u0026lt;/em\\\\u0026gt;yang kontennya diunggah di YouTube.\\\\u0026lt;/h3\\\\u0026gt;\\\\r\\\\n\\\\r\\\\n\\\\u0026lt;p\\\\u0026gt;\\\\u0026lt;em\\\\u0026gt;Endorsement \\\\u0026lt;/em\\\\u0026gt;yang sebelumnya pernah ia ambil antara lain dari gerai \\\\u0026lt;em\\\\u0026gt;top-up \\\\u0026lt;/em\\\\u0026gt;gim daring dan produk digital, brand pakaian, minuman kemasan saset, dan dagangan temannya.\\\\u0026lt;/p\\\\u0026gt;\\\\r\\\\n\\\\r\\\\n\\\\u0026lt;p\\\\u0026gt;Rumah judi online itu meminta Arman mempromosikan permainan slot di situsweb mereka. Rinciannya, Rp8 juta untuk satu postingan di \\\\u0026lt;em\\\\u0026gt;feed \\\\u0026lt;/em\\\\u0026gt;dengan format bebas (foto atau video pendek), membubuhkan logo, plus \\\\u0026lt;em\\\\u0026gt;copy\\\\u0026lt;/em\\\\u0026gt; ringkas promo yang ditawarkan.\\\\u0026lt;/p\\\\u0026gt;\\\\r\\\\n\\\\r\\\\n\\\\u0026lt;p\\\\u0026gt;Arman meminta pendapat temannya sesama selebgram. Temannya menyarankan terima saja. \\\\u0026amp;ldquo;Akhirnya saya terima,\\\\u0026amp;rdquo; katanya.\\\\u0026lt;/p\\\\u0026gt;\\\\r\\\\n\\\\r\\\\n\\\\u0026lt;p\\\\u0026gt;Setelah konten \\\\u0026lt;em\\\\u0026gt;endorsement \\\\u0026lt;/em\\\\u0026gt;diunggah, beberapa temannya menghubungi. Ada yang berseloroh nilainya \\\\u0026lt;em\\\\u0026gt;pasti\\\\u0026lt;/em\\\\u0026gt; besar, ada yang bertanya kenapa mau, ada juga yang memujinya nyali besar.\\\\u0026lt;/p\\\\u0026gt;\\\\r\\\\n\\\\r\\\\n\\\\u0026lt;h3\\\\u0026gt;Menurut Naldo, \\\\u0026lt;a href=\\\\u0026quot;https://deduktif.id/menambang-cuan-dari-judi-online\\\\u0026quot;\\\\u0026gt;\\\\u0026lt;u\\\\u0026gt;tokoh kita di tulisan pertama\\\\u0026lt;/u\\\\u0026gt;\\\\u0026lt;/a\\\\u0026gt;, itu memang praktik umum di rumah-rumah judi online\\\\u0026amp;ndash;selain menggunakan \\\\u0026lt;em\\\\u0026gt;Google Ads\\\\u0026lt;/em\\\\u0026gt;.\\\\u0026amp;nbsp; \\\\u0026amp;ldquo;Orang marketing pernah saya \\\\u0026lt;em\\\\u0026gt;tugasin\\\\u0026lt;/em\\\\u0026gt; cari artis atau penyanyi dangdut,\\\\u0026amp;rdquo; katanya, \\\\u0026amp;ldquo;tapi hanya ada satu yang mau. Sisanya menolak karena takut diciduk.\\\\u0026amp;rdquo; Nilainya Rp15 juta per postingan.\\\\u0026amp;nbsp;\\\\u0026lt;/h3\\\\u0026gt;\\\\r\\\\n\\\\r\\\\n\\\\u0026lt;p\\\\u0026gt;Rumah judi Naldo sengaja menyasar pengikut penyanyi dangdut, kerena mereka adalah para pekerja atau kelompok sosial yang sehari-hari memang lekat dengan judi online yang sangat mudah diakses. Entah itu slot, tebak nomor, atau tebak skor. \\\\u0026amp;ldquo;Waktu itu saya siapkan \\\\u0026lt;em\\\\u0026gt;budget \\\\u0026lt;/em\\\\u0026gt;sekitar Rp200 juta.\\\\u0026amp;rdquo;\\\\u0026amp;nbsp;\\\\u0026lt;/p\\\\u0026gt;\\\\r\\\\n\\\\r\\\\n\\\\u0026lt;p\\\\u0026gt;Beberapa kenalan Naldo yang mengoperasikan rumah judi juga melakukan hal yang sama. Bedanya di tipe artis atau \\\\u0026lt;em\\\\u0026gt;influencer. \\\\u0026lt;/em\\\\u0026gt;Ada yang lebih suka aktor, atau komedian, atau musisi, atau model yang punya rekam jejak di majalah pria dewasa, atau selebgram dan \\\\u0026lt;em\\\\u0026gt;streamer \\\\u0026lt;/em\\\\u0026gt;seperti Arman.\\\\u0026lt;/p\\\\u0026gt;\\\\r\\\\n\\\\r\\\\n\\\\u0026lt;p\\\\u0026gt;***\\\\u0026lt;/p\\\\u0026gt;\\\\r\\\\n\\\\r\\\\n\\\\u0026lt;p\\\\u0026gt;Pada Mei 2017, Nikita Mirzani mempromosikan Jaya Bet lewat unggahan di akun Instagramnya. Di \\\\u0026lt;em\\\\u0026gt;caption\\\\u0026lt;/em\\\\u0026gt; unggahan Nikita, tertera pilihan permainan yang Jaya Bet sediakan.\\\\u0026lt;/p\\\\u0026gt;\\\\r\\\\n\\\\r\\\\n\\\\u0026lt;p\\\\u0026gt;Selain Nikita, masih ada artis lain yang kemudian menerima \\\\u0026lt;em\\\\u0026gt;endorsement \\\\u0026lt;/em\\\\u0026gt;dari rumah judi online yang sama. Antara lain Amanda Manopo, Chelsea Veronnia yang merupakan sepupu selebgram ternama Rachel Venya, dan terakhir ada Sheila Marcia. Ketiganya mempromosikan juga situs Jaya Bet lewat akun Instagram masing-masing, berselang sekitar satu bulan dari unggahan Nikita.\\\\u0026lt;/p\\\\u0026gt;\\\\r\\\\n\\\\r\\\\n\\\\u0026lt;p\\\\u0026gt;Karena unggahan itu, Nikita Mirzani dilaporkan ke kepolisian. Amanda, Chelsea, dan Sheila beruntung tidak sampai dilaporkan, tapi mereka kemudian menghapus unggahan.\\\\u0026lt;/p\\\\u0026gt;\\\\r\\\\n\\\\r\\\\n\\\\u0026lt;p\\\\u0026gt;Tidak hanya lewat Instagram, beberapa nama besar artis lain memanfaatkan YouTube. Salah satunya \\\\u0026lt;a href=\\\\u0026quot;https://www.youtube.com/watch?v=PdNor3GiEmM\\\\u0026quot;\\\\u0026gt;\\\\u0026lt;u\\\\u0026gt;Dewi Persik\\\\u0026lt;/u\\\\u0026gt;\\\\u0026lt;/a\\\\u0026gt;, yang mempromosikan situs M11 Slot. Komedian \\\\u0026lt;a href=\\\\u0026quot;https://www.youtube.com/shorts/e0sB9L_Tp4c\\\\u0026quot;\\\\u0026gt;\\\\u0026lt;u\\\\u0026gt;Denny Cagur\\\\u0026lt;/u\\\\u0026gt;\\\\u0026lt;/a\\\\u0026gt;, yang mempromosikan Agen 138 di unggahan YouTube Short Hoki Slot. Nama besar lain, penyanyi kondang \\\\u0026lt;a href=\\\\u0026quot;https://www.youtube.com/shorts/Gzi8wxtu-Mc\\\\u0026quot;\\\\u0026gt;\\\\u0026lt;u\\\\u0026gt;Ari Lasso\\\\u0026lt;/u\\\\u0026gt;\\\\u0026lt;/a\\\\u0026gt; dan artis multi talenta \\\\u0026lt;a href=\\\\u0026quot;https://www.youtube.com/shorts/Fyu7NoUSU30\\\\u0026quot;\\\\u0026gt;\\\\u0026lt;u\\\\u0026gt;Boy William\\\\u0026lt;/u\\\\u0026gt;\\\\u0026lt;/a\\\\u0026gt;, turut juga mempromosikan Agen 138.\\\\u0026lt;/p\\\\u0026gt;\\\\r\\\\n\\\\r\\\\n\\\\u0026lt;p\\\\u0026gt;Yang menarik, para artis itu mengganti frasa \\\\u0026amp;ldquo;judi online\\\\u0026amp;rdquo; dengan \\\\u0026amp;ldquo;game online\\\\u0026amp;rdquo;. Dan mereka mengulang-ulang kalimat \\\\u0026amp;ldquo;game online ini sudah mempunyai lisensi dan terakreditasi\\\\u0026amp;rdquo;.\\\\u0026amp;nbsp;\\\\u0026lt;/p\\\\u0026gt;\\\\r\\\\n\\\\r\\\\n\\\\u0026lt;p\\\\u0026gt;Lisensi dari siapa? Akreditasi macam apa? Tidak jelas. Tapi bayaran mereka pasti berpuluh kali lipat dari yang diterima Arman.\\\\u0026lt;/p\\\\u0026gt;\\\\r\\\\n\\\\r\\\\n\\\\u0026lt;p\\\\u0026gt;***\\\\u0026lt;/p\\\\u0026gt;\\\\r\\\\n\\\\r\\\\n\\\\u0026lt;p\\\\u0026gt;Setelah dua minggu, Arman kemudian menghapus unggahan \\\\u0026lt;em\\\\u0026gt;endorsement\\\\u0026lt;/em\\\\u0026gt; dari rumah judi. Kerja samanya memang hanya untuk jangka waktu dua minggu. Sejak saat itu, Arman mengaku kapok. \\\\u0026amp;ldquo;Resikonya enggak main-main. Bisa dipenjara saya. Yang aman-aman aja, deh\\\\u0026lt;em\\\\u0026gt;,\\\\u0026lt;/em\\\\u0026gt;\\\\u0026amp;rdquo; katanya.\\\\u0026lt;/p\\\\u0026gt;\\\\r\\\\n\\\\r\\\\n\\\\u0026lt;p\\\\u0026gt;Arman semakin takut ketika salah satu selebgram perempuan kenalannya ditangkap oleh kepolisian pada Agustus 2022. \\\\u0026amp;ldquo;Saya tidak kenal di \\\\u0026lt;em\\\\u0026gt;real life, \\\\u0026lt;/em\\\\u0026gt;tapi saling \\\\u0026lt;em\\\\u0026gt;follow \\\\u0026lt;/em\\\\u0026gt;di Instagram. Dia ditangkap di Pemalang,\\\\u0026amp;rdquo; terangnya. Sosok selebgram perempuan itu adalah Risa Musfita, yang mempromosikan Naga 303.\\\\u0026lt;/p\\\\u0026gt;\\\\r\\\\n\\\\r\\\\n\\\\u0026lt;p\\\\u0026gt;Untuk penangkapan Risa Musfita, aparat kepolisian memakai Pasal 45 Ayat (2) juncto Pasal 27 Ayat (2) Undang-undang Informasi dan Transaksi Elektronik (UU ITE) tentang penyebaran akses informasi perjudian di media elektronik. Risa juga dikenakan Pasal 303 Ayat (1) KUHP tentang kesengajaan memberikan kesempatan perjudian atau turut serta dalam perusahaan perjudian. Ancaman pidananya sendiri maksimal 10 tahun penjara atau denda maksimal Rp 1 miliar.\\\\u0026lt;/p\\\\u0026gt;\\\\r\\\\n\\\\r\\\\n\\\\u0026lt;p\\\\u0026gt;Dalam laporan investigasi \\\\u0026lt;a href=\\\\u0026quot;https://globalinitiative.net/wp-content/uploads/2022/08/GITOC-APA-Obs-Asian-roulette-Criminogenic-casinos-and-illicit-trade-in-environmental-commodities-in-South-East-Asia.pdf\\\\u0026quot;\\\\u0026gt;\\\\u0026lt;em\\\\u0026gt;\\\\u0026lt;u\\\\u0026gt;Asian Roulette\\\\u0026lt;/u\\\\u0026gt;\\\\u0026lt;/em\\\\u0026gt;\\\\u0026lt;/a\\\\u0026gt;\\\\u0026lt;em\\\\u0026gt;: Criminogenic casinos and illicit trade environmental commodities in South East Asia \\\\u0026lt;/em\\\\u0026gt;yang dirilis oleh The Global Initiative Against Transnational Organized Crime pada Juli 2022, wilayah Asia Pasifik merupakan pasar perjudian terbesar dengan tingkat pertumbuhan yang paling pesat di seluruh dunia.\\\\u0026lt;/p\\\\u0026gt;\\\\r\\\\n\\\\r\\\\n\\\\u0026lt;p\\\\u0026gt;Proliferasi kasino fisik dan online di Asia Tenggara berada dalam yurisdiksi yang lemah dan zona ekonomi khusus, sehingga pengaturannya sangat permisif. Organisasi kriminal cukup leluasa mengoperasikan kasino maupun rumah judi online. Berbagai kejahatan berat\\\\u0026amp;ndash;termasuk pencucian uang, perdagangan narkoba dan manusia, serta prostitusi\\\\u0026amp;ndash;berkembang pesat dari masifnya pertumbuhan kasino serta rumah judi online di Asia.\\\\u0026lt;/p\\\\u0026gt;\\\\r\\\\n\\\\r\\\\n\\\\u0026lt;p\\\\u0026gt;Menurut M. Natsir Kongah, Koordinator Kelompok Substansi Humas PPATK, artis atau \\\\u0026lt;em\\\\u0026gt;influencer \\\\u0026lt;/em\\\\u0026gt;yang ada di pusaran ini tidak hanya berada di hilir\\\\u0026amp;ndash;atau sebatas orang yang mempromosikan saja; bisa saja mereka juga ada di hulu operasi. Ini terjadi pada kasus Indra Kenz terkait penipuan Binomo, di mana PPATK mengendus adanya aliran dana ke pemilik rumah judi online Rusia.\\\\u0026lt;/p\\\\u0026gt;\\\\r\\\\n\\\\r\\\\n\\\\u0026lt;p\\\\u0026gt;\\\\u0026amp;ldquo;Ada senilai Rp155 triliun, yang merupakan akumulasi dari 121 transaksi yang ditemukan PPATK,\\\\u0026amp;rdquo; kata Natsir.\\\\u0026lt;/p\\\\u0026gt;\",\"thumbnail\":\"1677174771_Deduktif-Header-Rumah-Judi-Rangga.jpg\",\"thumbnail_social\":\"1677174771_Deduktif-Header-Rumah-Judi-Rangga.jpg\",\"post_date\":\"2023-02-24 16:00:00\",\"created_at\":\"2023-02-23 17:52:51\",\"id_topic_deduktif\":15,\"author_name\":\"Fajar Nugraha\",\"author_image\":\"1655669770_fajar-nugraha.png\",\"header_background_color\":null,\"article_background_color\":\"141414\",\"footer_background_color\":\"7ce2e7\",\"topic_parent\":\"Rumah Judi\",\"topic\":\"Rumah Judi\"},\"domainname\":\"deduktif\"},\"__N_SSP\":true},\"page\":\"/[...slug]\",\"query\":{\"slug\":[\"eeeaaa-ada-artis-dan-influencer-di-iklan-judi-online\"]},\"buildId\":\"WQ1HhhyHMZNbmvJTH3DnL\",\"isFallback\":false,\"gssp\":true,\"scriptLoader\":[]}'"
   ]
  },
  {
   "cell_type": "code",
   "execution_count": null,
   "metadata": {},
   "outputs": [],
   "source": []
  },
  {
   "cell_type": "code",
   "execution_count": null,
   "metadata": {},
   "outputs": [],
   "source": []
  },
  {
   "cell_type": "code",
   "execution_count": null,
   "metadata": {},
   "outputs": [],
   "source": []
  },
  {
   "cell_type": "code",
   "execution_count": null,
   "metadata": {},
   "outputs": [],
   "source": []
  },
  {
   "cell_type": "code",
   "execution_count": null,
   "metadata": {},
   "outputs": [],
   "source": []
  },
  {
   "cell_type": "code",
   "execution_count": null,
   "metadata": {},
   "outputs": [],
   "source": [
    "def get_dailynews_df(keyword):\n",
    "    \n",
    "    # Set the parameters for the Google News API\n",
    "    google_news = GNews(language='id', country=\"Indonesia\", max_results=50)\n",
    "    today = datetime.datetime.now().date()\n",
    "    google_news.start_date = (today - datetime.timedelta(days=2)).strftime(\"%Y-%m-%d\")\n",
    "    google_news.end_date = today.strftime(\"%Y-%m-%d\")\n",
    "    \n",
    "    get_news = google_news.get_news(keyword)\n",
    "    \n",
    "    news_df = pd.DataFrame(get_news)\n",
    "\n",
    "    # Check if the necessary columns are present in the DataFrame\n",
    "    column_names = [\"publisher\", \"title\", \"description\", \"published date\", \"url\"]\n",
    "    if all(col in news_df.columns for col in column_names):\n",
    "        news_df = news_df[column_names]\n",
    "    else:\n",
    "        return None\n",
    "\n",
    "    articles = []\n",
    "    images = []\n",
    "    \n",
    "    for column, url in news_df[\"url\"].items():\n",
    "        try:\n",
    "            # Download the article content and extract the text\n",
    "            # get_article = google_news.get_full_article(url)\n",
    "            # full_text = get_article.text\n",
    "            get_article = Article(url)\n",
    "            get_article.download()\n",
    "            get_article.parse()\n",
    "            \n",
    "            full_text = get_article.text\n",
    "            \n",
    "            # Try to get the image URL and append it to the list\n",
    "            if len(get_article.images) > 0:\n",
    "                image = list(get_article.images)[0] if get_article.images else None\n",
    "                images.append(image)\n",
    "            else:\n",
    "                images.append(None)\n",
    "            \n",
    "            articles.append(full_text)\n",
    "\n",
    "        except Exception as e:\n",
    "            # If there is an error, append an error message to the summary list and set the image URL to None\n",
    "            print(f\"Error downloading article from {url}: {e}\")\n",
    "            articles.append(\"Error: article download failed\")\n",
    "            images.append(None)\n",
    "\n",
    "        # Sleep for a short time to avoid being blocked by the website\n",
    "        time.sleep(1)\n",
    "\n",
    "    # Add the full text and image URL columns to the DataFrame\n",
    "    news_df[\"isiartikel\"] = articles\n",
    "    news_df['gambar'] = images\n",
    "\n",
    "    # Clean the full text column\n",
    "    news_df[\"isiartikel\"] = news_df[\"isiartikel\"].replace(\"\\n\", \"\", regex=True)\n",
    "    news_df[\"isiartikel\"] = news_df[\"isiartikel\"].replace(\"\\r\", \"\", regex=True)\n",
    "    news_df[\"isiartikel\"] = news_df[\"isiartikel\"].replace(r\"\\\\\", \"\", regex=True)\n",
    "\n",
    "    # Rename the columns and select the desired columns for the final DataFrame\n",
    "    news_df = news_df.rename(columns={\"published date\":\"waktuterbit\", \"title\":\"judulartikel\", \"publisher\":\"sumberartikel\"})\n",
    "    news_df = news_df[[\"sumberartikel\", \"judulartikel\", \"isiartikel\", \"url\", \"waktuterbit\", \"gambar\"]]\n",
    "    news_df[\"sumberartikel\"] = news_df[\"sumberartikel\"].apply(lambda x: x[\"title\"])\n",
    "    \n",
    "    # Convert the \"WaktuTerbit\" column to datetime and extract date, month, and year\n",
    "    news_df[\"waktuterbit\"] = pd.to_datetime(news_df[\"waktuterbit\"])\n",
    "    news_df[\"tanggalterbit\"] = news_df[\"waktuterbit\"].dt.date\n",
    "    news_df[\"bulanterbit\"] = news_df[\"waktuterbit\"].dt.month_name()\n",
    "    news_df[\"tahunterbit\"] = news_df[\"waktuterbit\"].dt.year\n",
    "\n",
    "    return news_df\n",
    "\n",
    "\n",
    "pilpres_df_new = get_dailynews_df(\"jokowi\")\n",
    "pilpres_df_new.head()"
   ]
  },
  {
   "cell_type": "code",
   "execution_count": null,
   "metadata": {},
   "outputs": [],
   "source": []
  },
  {
   "cell_type": "code",
   "execution_count": null,
   "metadata": {},
   "outputs": [],
   "source": []
  },
  {
   "cell_type": "code",
   "execution_count": null,
   "metadata": {},
   "outputs": [],
   "source": []
  },
  {
   "cell_type": "code",
   "execution_count": null,
   "metadata": {},
   "outputs": [],
   "source": []
  },
  {
   "cell_type": "code",
   "execution_count": null,
   "metadata": {},
   "outputs": [],
   "source": []
  },
  {
   "cell_type": "code",
   "execution_count": null,
   "metadata": {},
   "outputs": [],
   "source": []
  },
  {
   "cell_type": "code",
   "execution_count": null,
   "metadata": {},
   "outputs": [],
   "source": []
  },
  {
   "cell_type": "code",
   "execution_count": null,
   "metadata": {},
   "outputs": [],
   "source": []
  },
  {
   "cell_type": "code",
   "execution_count": null,
   "metadata": {},
   "outputs": [],
   "source": []
  },
  {
   "cell_type": "code",
   "execution_count": null,
   "metadata": {},
   "outputs": [],
   "source": []
  },
  {
   "cell_type": "code",
   "execution_count": null,
   "metadata": {},
   "outputs": [],
   "source": []
  }
 ],
 "metadata": {
  "kernelspec": {
   "display_name": "dataviz-env",
   "language": "python",
   "name": "python3"
  },
  "language_info": {
   "codemirror_mode": {
    "name": "ipython",
    "version": 3
   },
   "file_extension": ".py",
   "mimetype": "text/x-python",
   "name": "python",
   "nbconvert_exporter": "python",
   "pygments_lexer": "ipython3",
   "version": "3.9.16"
  },
  "orig_nbformat": 4
 },
 "nbformat": 4,
 "nbformat_minor": 2
}
